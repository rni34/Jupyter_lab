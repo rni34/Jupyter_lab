{
 "cells": [
  {
   "cell_type": "markdown",
   "metadata": {},
   "source": [
    "# Data 201\n",
    "\n",
    "Data Wrangling, S2 2019\n",
    "\n",
    "## Assignement 1\n",
    "\n",
    "**20% of final grade** Total marks is **100 marks** (100 for R).\n",
    "\n",
    "## Due date: 11am Friday 23 August 2019\n",
    "\n",
    "The assignment must be submitted on the DATA 201 and 422 Learn page and should be **your own work**.\n",
    "\n",
    "### Avoid plagiarism (see this [video on academic plagiarism](https://www.youtube.com/embed/reGGPUrEsC0) ). If you are not sure what may constitute code plagiarism, read this [explanation on source code plagiarism](http://web.science.mq.edu.au/~mtaylor/ponline/index.php?id=source-code-plagiarism). Remember, when in doubt **declare your sources**. \n",
    "\n",
    "If you have any issues that affects your ability to work during the time allocated for the assignement, please DO CONTACT ME. We will find a suitable solution. In general this WON'T be an extension to the deadline (so that in the rest of the semester you are free from preoccupations). Most probably, I will ask you to submit what you have ready by the time the assignment is due, even if it is not everything we required, and I'll take into account special considerations. For any particular problem, please contact [Giulio Dalla Riva](giulio.dallariva@canterbury.ac.nz) or the TAs (using keybase)."
   ]
  },
  {
   "cell_type": "markdown",
   "metadata": {},
   "source": [
    "## Instruction\n",
    "\n",
    "For this assignment you will work with a _.csv_ data-set. Your goal is to read it in, wrangle it, produce some plotting, in order to demonstrate that you are able to use the functions, plotting, and markdown format we have been learning.  \n",
    "You shall hand in your work as a jupyter-lab R notebook comprehending the code, the plots and, **very important**, enough comments and explanations for us to understand what you did, how you did it, and why you did it. Remember: no comments, no marks.  \n",
    "You can either modify this notebook or write a new one from scratch: in that case, clearly indicate which question you are asking at each step. Notice that you may well want to **use more than one cell** per answer (using some cell for the code, some for the text, and so forth)."
   ]
  },
  {
   "cell_type": "markdown",
   "metadata": {},
   "source": [
    "## Comment, explain, present your work in a clear way (10 marks)"
   ]
  },
  {
   "cell_type": "markdown",
   "metadata": {},
   "source": [
    "## R part (overall 100 marks)\n",
    "\n",
    "Do use the tidyverse syntax I introduced in class and labs. If in doubt, refresh the lab material 1 to 4."
   ]
  },
  {
   "cell_type": "markdown",
   "metadata": {},
   "source": [
    "The first thing you may want to do is to load **tidyverse**:"
   ]
  },
  {
   "cell_type": "code",
   "execution_count": 1,
   "metadata": {},
   "outputs": [
    {
     "name": "stderr",
     "output_type": "stream",
     "text": [
      "── \u001b[1mAttaching packages\u001b[22m ─────────────────────────────────────── tidyverse 1.2.1 ──\n",
      "\u001b[32m✔\u001b[39m \u001b[34mggplot2\u001b[39m 3.2.0     \u001b[32m✔\u001b[39m \u001b[34mpurrr  \u001b[39m 0.3.2\n",
      "\u001b[32m✔\u001b[39m \u001b[34mtibble \u001b[39m 2.1.3     \u001b[32m✔\u001b[39m \u001b[34mdplyr  \u001b[39m 0.8.3\n",
      "\u001b[32m✔\u001b[39m \u001b[34mtidyr  \u001b[39m 0.8.3     \u001b[32m✔\u001b[39m \u001b[34mstringr\u001b[39m 1.4.0\n",
      "\u001b[32m✔\u001b[39m \u001b[34mreadr  \u001b[39m 1.3.1     \u001b[32m✔\u001b[39m \u001b[34mforcats\u001b[39m 0.4.0\n",
      "── \u001b[1mConflicts\u001b[22m ────────────────────────────────────────── tidyverse_conflicts() ──\n",
      "\u001b[31m✖\u001b[39m \u001b[34mdplyr\u001b[39m::\u001b[32mfilter()\u001b[39m masks \u001b[34mstats\u001b[39m::filter()\n",
      "\u001b[31m✖\u001b[39m \u001b[34mdplyr\u001b[39m::\u001b[32mlag()\u001b[39m    masks \u001b[34mstats\u001b[39m::lag()\n"
     ]
    }
   ],
   "source": [
    "library(tidyverse)"
   ]
  },
  {
   "cell_type": "markdown",
   "metadata": {},
   "source": [
    "### Task (a): import (10 marks)\n",
    "\n",
    "Import the **hour.csv** dataset into R as a dataframe (we'll call it `bike_df`, but you can call it what you want). You can read about the dataset in the file `DataSet_Dictionary.txt`. (Alternatively, you might use your own .csv dataset of choice, but talk with me about it before doing it). \n",
    "\n",
    "Then perform the routine checks about the types of the columns, the missing values, and output a quick summary of the dataset.\n",
    "\n",
    "_hint_ useful functions: `read_csv()`, `glimpse()`  \n",
    "_hint_ useful libraries: `tidyverse`, `readr`, `skimr`, `vis_dat`"
   ]
  },
  {
   "cell_type": "code",
   "execution_count": 2,
   "metadata": {},
   "outputs": [],
   "source": [
    "library(visdat)"
   ]
  },
  {
   "cell_type": "code",
   "execution_count": 3,
   "metadata": {},
   "outputs": [
    {
     "name": "stderr",
     "output_type": "stream",
     "text": [
      "\n",
      "Attaching package: ‘skimr’\n",
      "\n",
      "The following object is masked from ‘package:stats’:\n",
      "\n",
      "    filter\n",
      "\n"
     ]
    }
   ],
   "source": [
    "library(skimr)"
   ]
  },
  {
   "cell_type": "code",
   "execution_count": 4,
   "metadata": {},
   "outputs": [
    {
     "name": "stderr",
     "output_type": "stream",
     "text": [
      "Parsed with column specification:\n",
      "cols(\n",
      "  instant = \u001b[32mcol_double()\u001b[39m,\n",
      "  dteday = \u001b[34mcol_date(format = \"\")\u001b[39m,\n",
      "  season = \u001b[32mcol_double()\u001b[39m,\n",
      "  yr = \u001b[32mcol_double()\u001b[39m,\n",
      "  mnth = \u001b[32mcol_double()\u001b[39m,\n",
      "  hr = \u001b[32mcol_double()\u001b[39m,\n",
      "  holiday = \u001b[32mcol_double()\u001b[39m,\n",
      "  weekday = \u001b[32mcol_double()\u001b[39m,\n",
      "  workingday = \u001b[32mcol_double()\u001b[39m,\n",
      "  weathersit = \u001b[32mcol_double()\u001b[39m,\n",
      "  temp = \u001b[32mcol_double()\u001b[39m,\n",
      "  atemp = \u001b[32mcol_double()\u001b[39m,\n",
      "  hum = \u001b[32mcol_double()\u001b[39m,\n",
      "  windspeed = \u001b[32mcol_double()\u001b[39m,\n",
      "  casual = \u001b[32mcol_double()\u001b[39m,\n",
      "  registered = \u001b[32mcol_double()\u001b[39m,\n",
      "  cnt = \u001b[32mcol_double()\u001b[39m\n",
      ")\n"
     ]
    }
   ],
   "source": [
    "bike_df <- \"hour.csv\" %>%\n",
    "  read_csv()"
   ]
  },
  {
   "cell_type": "code",
   "execution_count": 7,
   "metadata": {},
   "outputs": [
    {
     "name": "stdout",
     "output_type": "stream",
     "text": [
      "Observations: 17,379\n",
      "Variables: 17\n",
      "$ instant    \u001b[3m\u001b[38;5;246m<dbl>\u001b[39m\u001b[23m 1, 2, 3, 4, 5, 6, 7, 8, 9, 10, 11, 12, 13, 14, 15, 16, 17,…\n",
      "$ dteday     \u001b[3m\u001b[38;5;246m<date>\u001b[39m\u001b[23m 2011-01-01, 2011-01-01, 2011-01-01, 2011-01-01, 2011-01-0…\n",
      "$ season     \u001b[3m\u001b[38;5;246m<dbl>\u001b[39m\u001b[23m 1, 1, 1, 1, 1, 1, 1, 1, 1, 1, 1, 1, 1, 1, 1, 1, 1, 1, 1, 1…\n",
      "$ yr         \u001b[3m\u001b[38;5;246m<dbl>\u001b[39m\u001b[23m 0, 0, 0, 0, 0, 0, 0, 0, 0, 0, 0, 0, 0, 0, 0, 0, 0, 0, 0, 0…\n",
      "$ mnth       \u001b[3m\u001b[38;5;246m<dbl>\u001b[39m\u001b[23m 1, 1, 1, 1, 1, 1, 1, 1, 1, 1, 1, 1, 1, 1, 1, 1, 1, 1, 1, 1…\n",
      "$ hr         \u001b[3m\u001b[38;5;246m<dbl>\u001b[39m\u001b[23m 0, 1, 2, 3, 4, 5, 6, 7, 8, 9, 10, 11, 12, 13, 14, 15, 16, …\n",
      "$ holiday    \u001b[3m\u001b[38;5;246m<dbl>\u001b[39m\u001b[23m 0, 0, 0, 0, 0, 0, 0, 0, 0, 0, 0, 0, 0, 0, 0, 0, 0, 0, 0, 0…\n",
      "$ weekday    \u001b[3m\u001b[38;5;246m<dbl>\u001b[39m\u001b[23m 6, 6, 6, 6, 6, 6, 6, 6, 6, 6, 6, 6, 6, 6, 6, 6, 6, 6, 6, 6…\n",
      "$ workingday \u001b[3m\u001b[38;5;246m<dbl>\u001b[39m\u001b[23m 0, 0, 0, 0, 0, 0, 0, 0, 0, 0, 0, 0, 0, 0, 0, 0, 0, 0, 0, 0…\n",
      "$ weathersit \u001b[3m\u001b[38;5;246m<dbl>\u001b[39m\u001b[23m 1, 1, 1, 1, 1, 2, 1, 1, 1, 1, 1, 1, 1, 2, 2, 2, 2, 2, 3, 3…\n",
      "$ temp       \u001b[3m\u001b[38;5;246m<dbl>\u001b[39m\u001b[23m 0.24, 0.22, 0.22, 0.24, 0.24, 0.24, 0.22, 0.20, 0.24, 0.32…\n",
      "$ atemp      \u001b[3m\u001b[38;5;246m<dbl>\u001b[39m\u001b[23m 0.2879, 0.2727, 0.2727, 0.2879, 0.2879, 0.2576, 0.2727, 0.…\n",
      "$ hum        \u001b[3m\u001b[38;5;246m<dbl>\u001b[39m\u001b[23m 0.81, 0.80, 0.80, 0.75, 0.75, 0.75, 0.80, 0.86, 0.75, 0.76…\n",
      "$ windspeed  \u001b[3m\u001b[38;5;246m<dbl>\u001b[39m\u001b[23m 0.0000, 0.0000, 0.0000, 0.0000, 0.0000, 0.0896, 0.0000, 0.…\n",
      "$ casual     \u001b[3m\u001b[38;5;246m<dbl>\u001b[39m\u001b[23m 3, 8, 5, 3, 0, 0, 2, 1, 1, 8, 12, 26, 29, 47, 35, 40, 41, …\n",
      "$ registered \u001b[3m\u001b[38;5;246m<dbl>\u001b[39m\u001b[23m 13, 32, 27, 10, 1, 1, 0, 2, 7, 6, 24, 30, 55, 47, 71, 70, …\n",
      "$ cnt        \u001b[3m\u001b[38;5;246m<dbl>\u001b[39m\u001b[23m 16, 40, 32, 13, 1, 1, 2, 3, 8, 14, 36, 56, 84, 94, 106, 11…\n"
     ]
    }
   ],
   "source": [
    "bike_df %>%\n",
    "  glimpse()"
   ]
  },
  {
   "cell_type": "code",
   "execution_count": 8,
   "metadata": {},
   "outputs": [
    {
     "data": {
      "image/png": "[encoded data removed]",
      "text/plain": [
       "plot without title"
      ]
     },
     "metadata": {},
     "output_type": "display_data"
    }
   ],
   "source": [
    "bike_df %>%\n",
    "  vis_miss()"
   ]
  },
  {
   "cell_type": "code",
   "execution_count": 75,
   "metadata": {},
   "outputs": [
    {
     "data": {
      "text/plain": [
       "    instant          dteday               season            yr        \n",
       " Min.   :    1   Min.   :2011-01-01   Min.   :1.000   Min.   :0.0000  \n",
       " 1st Qu.: 4346   1st Qu.:2011-07-04   1st Qu.:2.000   1st Qu.:0.0000  \n",
       " Median : 8690   Median :2012-01-02   Median :3.000   Median :1.0000  \n",
       " Mean   : 8690   Mean   :2012-01-02   Mean   :2.502   Mean   :0.5026  \n",
       " 3rd Qu.:13034   3rd Qu.:2012-07-02   3rd Qu.:3.000   3rd Qu.:1.0000  \n",
       " Max.   :17379   Max.   :2012-12-31   Max.   :4.000   Max.   :1.0000  \n",
       "      mnth              hr           holiday           weekday     \n",
       " Min.   : 1.000   Min.   : 0.00   Min.   :0.00000   Min.   :0.000  \n",
       " 1st Qu.: 4.000   1st Qu.: 6.00   1st Qu.:0.00000   1st Qu.:1.000  \n",
       " Median : 7.000   Median :12.00   Median :0.00000   Median :3.000  \n",
       " Mean   : 6.538   Mean   :11.55   Mean   :0.02877   Mean   :3.004  \n",
       " 3rd Qu.:10.000   3rd Qu.:18.00   3rd Qu.:0.00000   3rd Qu.:5.000  \n",
       " Max.   :12.000   Max.   :23.00   Max.   :1.00000   Max.   :6.000  \n",
       "   workingday       weathersit         temp           atemp       \n",
       " Min.   :0.0000   Min.   :1.000   Min.   :0.020   Min.   :0.0000  \n",
       " 1st Qu.:0.0000   1st Qu.:1.000   1st Qu.:0.340   1st Qu.:0.3333  \n",
       " Median :1.0000   Median :1.000   Median :0.500   Median :0.4848  \n",
       " Mean   :0.6827   Mean   :1.425   Mean   :0.497   Mean   :0.4758  \n",
       " 3rd Qu.:1.0000   3rd Qu.:2.000   3rd Qu.:0.660   3rd Qu.:0.6212  \n",
       " Max.   :1.0000   Max.   :4.000   Max.   :1.000   Max.   :1.0000  \n",
       "      hum           windspeed          casual         registered   \n",
       " Min.   :0.0000   Min.   :0.0000   Min.   :  0.00   Min.   :  0.0  \n",
       " 1st Qu.:0.4800   1st Qu.:0.1045   1st Qu.:  4.00   1st Qu.: 34.0  \n",
       " Median :0.6300   Median :0.1940   Median : 17.00   Median :115.0  \n",
       " Mean   :0.6272   Mean   :0.1901   Mean   : 35.68   Mean   :153.8  \n",
       " 3rd Qu.:0.7800   3rd Qu.:0.2537   3rd Qu.: 48.00   3rd Qu.:220.0  \n",
       " Max.   :1.0000   Max.   :0.8507   Max.   :367.00   Max.   :886.0  \n",
       "      cnt       \n",
       " Min.   :  1.0  \n",
       " 1st Qu.: 40.0  \n",
       " Median :142.0  \n",
       " Mean   :189.5  \n",
       " 3rd Qu.:281.0  \n",
       " Max.   :977.0  "
      ]
     },
     "metadata": {},
     "output_type": "display_data"
    }
   ],
   "source": [
    "bike_df%>%\n",
    "  summary()"
   ]
  },
  {
   "cell_type": "markdown",
   "metadata": {},
   "source": [
    "### Task (b): working on rows (10 marks)\n",
    "\n",
    "\n",
    "Working on `bike_df`, show that you can operate on rows: arranging them, getting the top _n_ according to some variable of your choice, filtering them (eventually using your own functions).\n",
    "\n",
    "_hint_ useful functions: `arrange()`, `top_n()`, `filter()`  \n",
    "_hint_ to define a function: `myfunction <- function(myargument,anotherargument) { bodyofthefunction }`"
   ]
  },
  {
   "cell_type": "code",
   "execution_count": null,
   "metadata": {},
   "outputs": [],
   "source": [
    "\"head(3)\"を提出する前に消してください！！"
   ]
  },
  {
   "cell_type": "code",
   "execution_count": 9,
   "metadata": {},
   "outputs": [
    {
     "data": {
      "text/html": [
       "<table>\n",
       "<caption>A tibble: 3 × 17</caption>\n",
       "<thead>\n",
       "\t<tr><th scope=col>instant</th><th scope=col>dteday</th><th scope=col>season</th><th scope=col>yr</th><th scope=col>mnth</th><th scope=col>hr</th><th scope=col>holiday</th><th scope=col>weekday</th><th scope=col>workingday</th><th scope=col>weathersit</th><th scope=col>temp</th><th scope=col>atemp</th><th scope=col>hum</th><th scope=col>windspeed</th><th scope=col>casual</th><th scope=col>registered</th><th scope=col>cnt</th></tr>\n",
       "\t<tr><th scope=col>&lt;dbl&gt;</th><th scope=col>&lt;date&gt;</th><th scope=col>&lt;dbl&gt;</th><th scope=col>&lt;dbl&gt;</th><th scope=col>&lt;dbl&gt;</th><th scope=col>&lt;dbl&gt;</th><th scope=col>&lt;dbl&gt;</th><th scope=col>&lt;dbl&gt;</th><th scope=col>&lt;dbl&gt;</th><th scope=col>&lt;dbl&gt;</th><th scope=col>&lt;dbl&gt;</th><th scope=col>&lt;dbl&gt;</th><th scope=col>&lt;dbl&gt;</th><th scope=col>&lt;dbl&gt;</th><th scope=col>&lt;dbl&gt;</th><th scope=col>&lt;dbl&gt;</th><th scope=col>&lt;dbl&gt;</th></tr>\n",
       "</thead>\n",
       "<tbody>\n",
       "\t<tr><td>484</td><td>2011-01-22</td><td>1</td><td>0</td><td>1</td><td>4</td><td>0</td><td>6</td><td>0</td><td>2</td><td>0.02</td><td>0.0152</td><td>0.48</td><td>0.2985</td><td>0</td><td>3</td><td>3</td></tr>\n",
       "\t<tr><td>485</td><td>2011-01-22</td><td>1</td><td>0</td><td>1</td><td>6</td><td>0</td><td>6</td><td>0</td><td>2</td><td>0.02</td><td>0.0303</td><td>0.44</td><td>0.2239</td><td>0</td><td>2</td><td>2</td></tr>\n",
       "\t<tr><td>486</td><td>2011-01-22</td><td>1</td><td>0</td><td>1</td><td>7</td><td>0</td><td>6</td><td>0</td><td>1</td><td>0.02</td><td>0.0152</td><td>0.44</td><td>0.2836</td><td>0</td><td>8</td><td>8</td></tr>\n",
       "</tbody>\n",
       "</table>\n"
      ],
      "text/latex": [
       "A tibble: 3 × 17\n",
       "\\begin{tabular}{r|lllllllllllllllll}\n",
       " instant & dteday & season & yr & mnth & hr & holiday & weekday & workingday & weathersit & temp & atemp & hum & windspeed & casual & registered & cnt\\\\\n",
       " <dbl> & <date> & <dbl> & <dbl> & <dbl> & <dbl> & <dbl> & <dbl> & <dbl> & <dbl> & <dbl> & <dbl> & <dbl> & <dbl> & <dbl> & <dbl> & <dbl>\\\\\n",
       "\\hline\n",
       "\t 484 & 2011-01-22 & 1 & 0 & 1 & 4 & 0 & 6 & 0 & 2 & 0.02 & 0.0152 & 0.48 & 0.2985 & 0 & 3 & 3\\\\\n",
       "\t 485 & 2011-01-22 & 1 & 0 & 1 & 6 & 0 & 6 & 0 & 2 & 0.02 & 0.0303 & 0.44 & 0.2239 & 0 & 2 & 2\\\\\n",
       "\t 486 & 2011-01-22 & 1 & 0 & 1 & 7 & 0 & 6 & 0 & 1 & 0.02 & 0.0152 & 0.44 & 0.2836 & 0 & 8 & 8\\\\\n",
       "\\end{tabular}\n"
      ],
      "text/markdown": [
       "\n",
       "A tibble: 3 × 17\n",
       "\n",
       "| instant &lt;dbl&gt; | dteday &lt;date&gt; | season &lt;dbl&gt; | yr &lt;dbl&gt; | mnth &lt;dbl&gt; | hr &lt;dbl&gt; | holiday &lt;dbl&gt; | weekday &lt;dbl&gt; | workingday &lt;dbl&gt; | weathersit &lt;dbl&gt; | temp &lt;dbl&gt; | atemp &lt;dbl&gt; | hum &lt;dbl&gt; | windspeed &lt;dbl&gt; | casual &lt;dbl&gt; | registered &lt;dbl&gt; | cnt &lt;dbl&gt; |\n",
       "|---|---|---|---|---|---|---|---|---|---|---|---|---|---|---|---|---|\n",
       "| 484 | 2011-01-22 | 1 | 0 | 1 | 4 | 0 | 6 | 0 | 2 | 0.02 | 0.0152 | 0.48 | 0.2985 | 0 | 3 | 3 |\n",
       "| 485 | 2011-01-22 | 1 | 0 | 1 | 6 | 0 | 6 | 0 | 2 | 0.02 | 0.0303 | 0.44 | 0.2239 | 0 | 2 | 2 |\n",
       "| 486 | 2011-01-22 | 1 | 0 | 1 | 7 | 0 | 6 | 0 | 1 | 0.02 | 0.0152 | 0.44 | 0.2836 | 0 | 8 | 8 |\n",
       "\n"
      ],
      "text/plain": [
       "  instant dteday     season yr mnth hr holiday weekday workingday weathersit\n",
       "1 484     2011-01-22 1      0  1    4  0       6       0          2         \n",
       "2 485     2011-01-22 1      0  1    6  0       6       0          2         \n",
       "3 486     2011-01-22 1      0  1    7  0       6       0          1         \n",
       "  temp atemp  hum  windspeed casual registered cnt\n",
       "1 0.02 0.0152 0.48 0.2985    0      3          3  \n",
       "2 0.02 0.0303 0.44 0.2239    0      2          2  \n",
       "3 0.02 0.0152 0.44 0.2836    0      8          8  "
      ]
     },
     "metadata": {},
     "output_type": "display_data"
    }
   ],
   "source": [
    "bike_df %>%\n",
    "arrange(temp) %>%\n",
    "head(3)\n",
    "#arrange the row by temp column in ascending order."
   ]
  },
  {
   "cell_type": "code",
   "execution_count": 11,
   "metadata": {},
   "outputs": [
    {
     "data": {
      "text/html": [
       "<table>\n",
       "<caption>A tibble: 3 × 17</caption>\n",
       "<thead>\n",
       "\t<tr><th scope=col>instant</th><th scope=col>dteday</th><th scope=col>season</th><th scope=col>yr</th><th scope=col>mnth</th><th scope=col>hr</th><th scope=col>holiday</th><th scope=col>weekday</th><th scope=col>workingday</th><th scope=col>weathersit</th><th scope=col>temp</th><th scope=col>atemp</th><th scope=col>hum</th><th scope=col>windspeed</th><th scope=col>casual</th><th scope=col>registered</th><th scope=col>cnt</th></tr>\n",
       "\t<tr><th scope=col>&lt;dbl&gt;</th><th scope=col>&lt;date&gt;</th><th scope=col>&lt;dbl&gt;</th><th scope=col>&lt;dbl&gt;</th><th scope=col>&lt;dbl&gt;</th><th scope=col>&lt;dbl&gt;</th><th scope=col>&lt;dbl&gt;</th><th scope=col>&lt;dbl&gt;</th><th scope=col>&lt;dbl&gt;</th><th scope=col>&lt;dbl&gt;</th><th scope=col>&lt;dbl&gt;</th><th scope=col>&lt;dbl&gt;</th><th scope=col>&lt;dbl&gt;</th><th scope=col>&lt;dbl&gt;</th><th scope=col>&lt;dbl&gt;</th><th scope=col>&lt;dbl&gt;</th><th scope=col>&lt;dbl&gt;</th></tr>\n",
       "</thead>\n",
       "<tbody>\n",
       "\t<tr><td>4769</td><td>2011-07-22</td><td>3</td><td>0</td><td>7</td><td>14</td><td>0</td><td>5</td><td>1</td><td>1</td><td>0.96</td><td>1.0000</td><td>0.48</td><td>0.2985</td><td>24</td><td> 77</td><td>101</td></tr>\n",
       "\t<tr><td>4935</td><td>2011-07-29</td><td>3</td><td>0</td><td>7</td><td>12</td><td>0</td><td>5</td><td>1</td><td>1</td><td>0.96</td><td>0.8636</td><td>0.31</td><td>0.2836</td><td>40</td><td> 95</td><td>135</td></tr>\n",
       "\t<tr><td>4937</td><td>2011-07-29</td><td>3</td><td>0</td><td>7</td><td>14</td><td>0</td><td>5</td><td>1</td><td>1</td><td>0.96</td><td>0.8636</td><td>0.30</td><td>0.2239</td><td>34</td><td>114</td><td>148</td></tr>\n",
       "</tbody>\n",
       "</table>\n"
      ],
      "text/latex": [
       "A tibble: 3 × 17\n",
       "\\begin{tabular}{r|lllllllllllllllll}\n",
       " instant & dteday & season & yr & mnth & hr & holiday & weekday & workingday & weathersit & temp & atemp & hum & windspeed & casual & registered & cnt\\\\\n",
       " <dbl> & <date> & <dbl> & <dbl> & <dbl> & <dbl> & <dbl> & <dbl> & <dbl> & <dbl> & <dbl> & <dbl> & <dbl> & <dbl> & <dbl> & <dbl> & <dbl>\\\\\n",
       "\\hline\n",
       "\t 4769 & 2011-07-22 & 3 & 0 & 7 & 14 & 0 & 5 & 1 & 1 & 0.96 & 1.0000 & 0.48 & 0.2985 & 24 &  77 & 101\\\\\n",
       "\t 4935 & 2011-07-29 & 3 & 0 & 7 & 12 & 0 & 5 & 1 & 1 & 0.96 & 0.8636 & 0.31 & 0.2836 & 40 &  95 & 135\\\\\n",
       "\t 4937 & 2011-07-29 & 3 & 0 & 7 & 14 & 0 & 5 & 1 & 1 & 0.96 & 0.8636 & 0.30 & 0.2239 & 34 & 114 & 148\\\\\n",
       "\\end{tabular}\n"
      ],
      "text/markdown": [
       "\n",
       "A tibble: 3 × 17\n",
       "\n",
       "| instant &lt;dbl&gt; | dteday &lt;date&gt; | season &lt;dbl&gt; | yr &lt;dbl&gt; | mnth &lt;dbl&gt; | hr &lt;dbl&gt; | holiday &lt;dbl&gt; | weekday &lt;dbl&gt; | workingday &lt;dbl&gt; | weathersit &lt;dbl&gt; | temp &lt;dbl&gt; | atemp &lt;dbl&gt; | hum &lt;dbl&gt; | windspeed &lt;dbl&gt; | casual &lt;dbl&gt; | registered &lt;dbl&gt; | cnt &lt;dbl&gt; |\n",
       "|---|---|---|---|---|---|---|---|---|---|---|---|---|---|---|---|---|\n",
       "| 4769 | 2011-07-22 | 3 | 0 | 7 | 14 | 0 | 5 | 1 | 1 | 0.96 | 1.0000 | 0.48 | 0.2985 | 24 |  77 | 101 |\n",
       "| 4935 | 2011-07-29 | 3 | 0 | 7 | 12 | 0 | 5 | 1 | 1 | 0.96 | 0.8636 | 0.31 | 0.2836 | 40 |  95 | 135 |\n",
       "| 4937 | 2011-07-29 | 3 | 0 | 7 | 14 | 0 | 5 | 1 | 1 | 0.96 | 0.8636 | 0.30 | 0.2239 | 34 | 114 | 148 |\n",
       "\n"
      ],
      "text/plain": [
       "  instant dteday     season yr mnth hr holiday weekday workingday weathersit\n",
       "1 4769    2011-07-22 3      0  7    14 0       5       1          1         \n",
       "2 4935    2011-07-29 3      0  7    12 0       5       1          1         \n",
       "3 4937    2011-07-29 3      0  7    14 0       5       1          1         \n",
       "  temp atemp  hum  windspeed casual registered cnt\n",
       "1 0.96 1.0000 0.48 0.2985    24      77        101\n",
       "2 0.96 0.8636 0.31 0.2836    40      95        135\n",
       "3 0.96 0.8636 0.30 0.2239    34     114        148"
      ]
     },
     "metadata": {},
     "output_type": "display_data"
    }
   ],
   "source": [
    "bike_df %>%\n",
    "top_n(3, temp) %>%\n",
    "head(3)\n",
    "#get ALL the rows with 3 top(highest) temp data."
   ]
  },
  {
   "cell_type": "code",
   "execution_count": 12,
   "metadata": {},
   "outputs": [
    {
     "data": {
      "text/html": [
       "<table>\n",
       "<caption>A tibble: 3 × 17</caption>\n",
       "<thead>\n",
       "\t<tr><th scope=col>instant</th><th scope=col>dteday</th><th scope=col>season</th><th scope=col>yr</th><th scope=col>mnth</th><th scope=col>hr</th><th scope=col>holiday</th><th scope=col>weekday</th><th scope=col>workingday</th><th scope=col>weathersit</th><th scope=col>temp</th><th scope=col>atemp</th><th scope=col>hum</th><th scope=col>windspeed</th><th scope=col>casual</th><th scope=col>registered</th><th scope=col>cnt</th></tr>\n",
       "\t<tr><th scope=col>&lt;dbl&gt;</th><th scope=col>&lt;date&gt;</th><th scope=col>&lt;dbl&gt;</th><th scope=col>&lt;dbl&gt;</th><th scope=col>&lt;dbl&gt;</th><th scope=col>&lt;dbl&gt;</th><th scope=col>&lt;dbl&gt;</th><th scope=col>&lt;dbl&gt;</th><th scope=col>&lt;dbl&gt;</th><th scope=col>&lt;dbl&gt;</th><th scope=col>&lt;dbl&gt;</th><th scope=col>&lt;dbl&gt;</th><th scope=col>&lt;dbl&gt;</th><th scope=col>&lt;dbl&gt;</th><th scope=col>&lt;dbl&gt;</th><th scope=col>&lt;dbl&gt;</th><th scope=col>&lt;dbl&gt;</th></tr>\n",
       "</thead>\n",
       "<tbody>\n",
       "\t<tr><td>4251</td><td>2011-07-01</td><td>3</td><td>0</td><td>7</td><td>0</td><td>0</td><td>5</td><td>1</td><td>1</td><td>0.66</td><td>0.6212</td><td>0.50</td><td>0</td><td>20</td><td>48</td><td>68</td></tr>\n",
       "\t<tr><td>4252</td><td>2011-07-01</td><td>3</td><td>0</td><td>7</td><td>1</td><td>0</td><td>5</td><td>1</td><td>1</td><td>0.66</td><td>0.6212</td><td>0.50</td><td>0</td><td>15</td><td>16</td><td>31</td></tr>\n",
       "\t<tr><td>4253</td><td>2011-07-01</td><td>3</td><td>0</td><td>7</td><td>2</td><td>0</td><td>5</td><td>1</td><td>1</td><td>0.62</td><td>0.6061</td><td>0.69</td><td>0</td><td> 6</td><td> 7</td><td>13</td></tr>\n",
       "</tbody>\n",
       "</table>\n"
      ],
      "text/latex": [
       "A tibble: 3 × 17\n",
       "\\begin{tabular}{r|lllllllllllllllll}\n",
       " instant & dteday & season & yr & mnth & hr & holiday & weekday & workingday & weathersit & temp & atemp & hum & windspeed & casual & registered & cnt\\\\\n",
       " <dbl> & <date> & <dbl> & <dbl> & <dbl> & <dbl> & <dbl> & <dbl> & <dbl> & <dbl> & <dbl> & <dbl> & <dbl> & <dbl> & <dbl> & <dbl> & <dbl>\\\\\n",
       "\\hline\n",
       "\t 4251 & 2011-07-01 & 3 & 0 & 7 & 0 & 0 & 5 & 1 & 1 & 0.66 & 0.6212 & 0.50 & 0 & 20 & 48 & 68\\\\\n",
       "\t 4252 & 2011-07-01 & 3 & 0 & 7 & 1 & 0 & 5 & 1 & 1 & 0.66 & 0.6212 & 0.50 & 0 & 15 & 16 & 31\\\\\n",
       "\t 4253 & 2011-07-01 & 3 & 0 & 7 & 2 & 0 & 5 & 1 & 1 & 0.62 & 0.6061 & 0.69 & 0 &  6 &  7 & 13\\\\\n",
       "\\end{tabular}\n"
      ],
      "text/markdown": [
       "\n",
       "A tibble: 3 × 17\n",
       "\n",
       "| instant &lt;dbl&gt; | dteday &lt;date&gt; | season &lt;dbl&gt; | yr &lt;dbl&gt; | mnth &lt;dbl&gt; | hr &lt;dbl&gt; | holiday &lt;dbl&gt; | weekday &lt;dbl&gt; | workingday &lt;dbl&gt; | weathersit &lt;dbl&gt; | temp &lt;dbl&gt; | atemp &lt;dbl&gt; | hum &lt;dbl&gt; | windspeed &lt;dbl&gt; | casual &lt;dbl&gt; | registered &lt;dbl&gt; | cnt &lt;dbl&gt; |\n",
       "|---|---|---|---|---|---|---|---|---|---|---|---|---|---|---|---|---|\n",
       "| 4251 | 2011-07-01 | 3 | 0 | 7 | 0 | 0 | 5 | 1 | 1 | 0.66 | 0.6212 | 0.50 | 0 | 20 | 48 | 68 |\n",
       "| 4252 | 2011-07-01 | 3 | 0 | 7 | 1 | 0 | 5 | 1 | 1 | 0.66 | 0.6212 | 0.50 | 0 | 15 | 16 | 31 |\n",
       "| 4253 | 2011-07-01 | 3 | 0 | 7 | 2 | 0 | 5 | 1 | 1 | 0.62 | 0.6061 | 0.69 | 0 |  6 |  7 | 13 |\n",
       "\n"
      ],
      "text/plain": [
       "  instant dteday     season yr mnth hr holiday weekday workingday weathersit\n",
       "1 4251    2011-07-01 3      0  7    0  0       5       1          1         \n",
       "2 4252    2011-07-01 3      0  7    1  0       5       1          1         \n",
       "3 4253    2011-07-01 3      0  7    2  0       5       1          1         \n",
       "  temp atemp  hum  windspeed casual registered cnt\n",
       "1 0.66 0.6212 0.50 0         20     48         68 \n",
       "2 0.66 0.6212 0.50 0         15     16         31 \n",
       "3 0.62 0.6061 0.69 0          6      7         13 "
      ]
     },
     "metadata": {},
     "output_type": "display_data"
    }
   ],
   "source": [
    "bike_df %>%\n",
    "filter(mnth == 7) %>%\n",
    "head(3)\n",
    "#filters every row that has not got 7 as their mnth."
   ]
  },
  {
   "cell_type": "code",
   "execution_count": 6,
   "metadata": {},
   "outputs": [
    {
     "data": {
      "text/html": [
       "<table>\n",
       "<caption>A tibble: 3 × 17</caption>\n",
       "<thead>\n",
       "\t<tr><th scope=col>instant</th><th scope=col>dteday</th><th scope=col>season</th><th scope=col>yr</th><th scope=col>mnth</th><th scope=col>hr</th><th scope=col>holiday</th><th scope=col>weekday</th><th scope=col>workingday</th><th scope=col>weathersit</th><th scope=col>temp</th><th scope=col>atemp</th><th scope=col>hum</th><th scope=col>windspeed</th><th scope=col>casual</th><th scope=col>registered</th><th scope=col>cnt</th></tr>\n",
       "\t<tr><th scope=col>&lt;dbl&gt;</th><th scope=col>&lt;date&gt;</th><th scope=col>&lt;dbl&gt;</th><th scope=col>&lt;dbl&gt;</th><th scope=col>&lt;dbl&gt;</th><th scope=col>&lt;dbl&gt;</th><th scope=col>&lt;dbl&gt;</th><th scope=col>&lt;dbl&gt;</th><th scope=col>&lt;dbl&gt;</th><th scope=col>&lt;dbl&gt;</th><th scope=col>&lt;dbl&gt;</th><th scope=col>&lt;dbl&gt;</th><th scope=col>&lt;dbl&gt;</th><th scope=col>&lt;dbl&gt;</th><th scope=col>&lt;dbl&gt;</th><th scope=col>&lt;dbl&gt;</th><th scope=col>&lt;dbl&gt;</th></tr>\n",
       "</thead>\n",
       "<tbody>\n",
       "\t<tr><td>1</td><td>2011-01-01</td><td>1</td><td>0</td><td>1</td><td>0</td><td>0</td><td>6</td><td>0</td><td>1</td><td>0.24</td><td>0.2879</td><td>0.81</td><td>0</td><td>3</td><td>13</td><td>16</td></tr>\n",
       "\t<tr><td>2</td><td>2011-01-01</td><td>1</td><td>0</td><td>1</td><td>1</td><td>0</td><td>6</td><td>0</td><td>1</td><td>0.22</td><td>0.2727</td><td>0.80</td><td>0</td><td>8</td><td>32</td><td>40</td></tr>\n",
       "\t<tr><td>3</td><td>2011-01-01</td><td>1</td><td>0</td><td>1</td><td>2</td><td>0</td><td>6</td><td>0</td><td>1</td><td>0.22</td><td>0.2727</td><td>0.80</td><td>0</td><td>5</td><td>27</td><td>32</td></tr>\n",
       "</tbody>\n",
       "</table>\n"
      ],
      "text/latex": [
       "A tibble: 3 × 17\n",
       "\\begin{tabular}{r|lllllllllllllllll}\n",
       " instant & dteday & season & yr & mnth & hr & holiday & weekday & workingday & weathersit & temp & atemp & hum & windspeed & casual & registered & cnt\\\\\n",
       " <dbl> & <date> & <dbl> & <dbl> & <dbl> & <dbl> & <dbl> & <dbl> & <dbl> & <dbl> & <dbl> & <dbl> & <dbl> & <dbl> & <dbl> & <dbl> & <dbl>\\\\\n",
       "\\hline\n",
       "\t 1 & 2011-01-01 & 1 & 0 & 1 & 0 & 0 & 6 & 0 & 1 & 0.24 & 0.2879 & 0.81 & 0 & 3 & 13 & 16\\\\\n",
       "\t 2 & 2011-01-01 & 1 & 0 & 1 & 1 & 0 & 6 & 0 & 1 & 0.22 & 0.2727 & 0.80 & 0 & 8 & 32 & 40\\\\\n",
       "\t 3 & 2011-01-01 & 1 & 0 & 1 & 2 & 0 & 6 & 0 & 1 & 0.22 & 0.2727 & 0.80 & 0 & 5 & 27 & 32\\\\\n",
       "\\end{tabular}\n"
      ],
      "text/markdown": [
       "\n",
       "A tibble: 3 × 17\n",
       "\n",
       "| instant &lt;dbl&gt; | dteday &lt;date&gt; | season &lt;dbl&gt; | yr &lt;dbl&gt; | mnth &lt;dbl&gt; | hr &lt;dbl&gt; | holiday &lt;dbl&gt; | weekday &lt;dbl&gt; | workingday &lt;dbl&gt; | weathersit &lt;dbl&gt; | temp &lt;dbl&gt; | atemp &lt;dbl&gt; | hum &lt;dbl&gt; | windspeed &lt;dbl&gt; | casual &lt;dbl&gt; | registered &lt;dbl&gt; | cnt &lt;dbl&gt; |\n",
       "|---|---|---|---|---|---|---|---|---|---|---|---|---|---|---|---|---|\n",
       "| 1 | 2011-01-01 | 1 | 0 | 1 | 0 | 0 | 6 | 0 | 1 | 0.24 | 0.2879 | 0.81 | 0 | 3 | 13 | 16 |\n",
       "| 2 | 2011-01-01 | 1 | 0 | 1 | 1 | 0 | 6 | 0 | 1 | 0.22 | 0.2727 | 0.80 | 0 | 8 | 32 | 40 |\n",
       "| 3 | 2011-01-01 | 1 | 0 | 1 | 2 | 0 | 6 | 0 | 1 | 0.22 | 0.2727 | 0.80 | 0 | 5 | 27 | 32 |\n",
       "\n"
      ],
      "text/plain": [
       "  instant dteday     season yr mnth hr holiday weekday workingday weathersit\n",
       "1 1       2011-01-01 1      0  1    0  0       6       0          1         \n",
       "2 2       2011-01-01 1      0  1    1  0       6       0          1         \n",
       "3 3       2011-01-01 1      0  1    2  0       6       0          1         \n",
       "  temp atemp  hum  windspeed casual registered cnt\n",
       "1 0.24 0.2879 0.81 0         3      13         16 \n",
       "2 0.22 0.2727 0.80 0         8      32         40 \n",
       "3 0.22 0.2727 0.80 0         5      27         32 "
      ]
     },
     "metadata": {},
     "output_type": "display_data"
    }
   ],
   "source": [
    "bike_df %>%\n",
    "  filter(mnth %in% c(7, 1)) %>%\n",
    "  head(3)\n",
    "#filter every row that has not got 1 or 7 as their mnth."
   ]
  },
  {
   "cell_type": "code",
   "execution_count": 44,
   "metadata": {},
   "outputs": [
    {
     "ename": "ERROR",
     "evalue": "Error in my_function(., 2): unused argument (2)\n",
     "output_type": "error",
     "traceback": [
      "Error in my_function(., 2): unused argument (2)\nTraceback:\n",
      "1. bike_df %>% my_function(2)",
      "2. withVisible(eval(quote(`_fseq`(`_lhs`)), env, env))",
      "3. eval(quote(`_fseq`(`_lhs`)), env, env)",
      "4. eval(quote(`_fseq`(`_lhs`)), env, env)",
      "5. `_fseq`(`_lhs`)",
      "6. freduce(value, `_function_list`)",
      "7. withVisible(function_list[[k]](value))",
      "8. function_list[[k]](value)"
     ]
    }
   ],
   "source": [
    "my_function <-　function(){\n",
    "    \n",
    "}\n",
    "\n",
    "bike_df %>%\n",
    "my_function(2)"
   ]
  },
  {
   "cell_type": "markdown",
   "metadata": {},
   "source": [
    "### Task (c): working on columns (10 marks)\n",
    "\n",
    "Working on `bike_df`, show that you can operate on columns: selecting some of them, dropping other, renaming them, reordering them, ...\n",
    "\n",
    "\n",
    "_hint_ useful functions: `select()`, `rename()`, ..."
   ]
  },
  {
   "cell_type": "code",
   "execution_count": 59,
   "metadata": {},
   "outputs": [
    {
     "data": {
      "text/html": [
       "<table>\n",
       "<caption>A tibble: 3 × 2</caption>\n",
       "<thead>\n",
       "\t<tr><th scope=col>temp</th><th scope=col>atemp</th></tr>\n",
       "\t<tr><th scope=col>&lt;dbl&gt;</th><th scope=col>&lt;dbl&gt;</th></tr>\n",
       "</thead>\n",
       "<tbody>\n",
       "\t<tr><td>0.24</td><td>0.2879</td></tr>\n",
       "\t<tr><td>0.22</td><td>0.2727</td></tr>\n",
       "\t<tr><td>0.22</td><td>0.2727</td></tr>\n",
       "</tbody>\n",
       "</table>\n"
      ],
      "text/latex": [
       "A tibble: 3 × 2\n",
       "\\begin{tabular}{r|ll}\n",
       " temp & atemp\\\\\n",
       " <dbl> & <dbl>\\\\\n",
       "\\hline\n",
       "\t 0.24 & 0.2879\\\\\n",
       "\t 0.22 & 0.2727\\\\\n",
       "\t 0.22 & 0.2727\\\\\n",
       "\\end{tabular}\n"
      ],
      "text/markdown": [
       "\n",
       "A tibble: 3 × 2\n",
       "\n",
       "| temp &lt;dbl&gt; | atemp &lt;dbl&gt; |\n",
       "|---|---|\n",
       "| 0.24 | 0.2879 |\n",
       "| 0.22 | 0.2727 |\n",
       "| 0.22 | 0.2727 |\n",
       "\n"
      ],
      "text/plain": [
       "  temp atemp \n",
       "1 0.24 0.2879\n",
       "2 0.22 0.2727\n",
       "3 0.22 0.2727"
      ]
     },
     "metadata": {},
     "output_type": "display_data"
    }
   ],
   "source": [
    "bike_df %>%\n",
    "select(temp:hum) %>%\n",
    "select(-hum) %>%\n",
    "head(3)\n",
    "#select and show only the temp column to hum column, then drop hum column."
   ]
  },
  {
   "cell_type": "code",
   "execution_count": 56,
   "metadata": {},
   "outputs": [
    {
     "data": {
      "text/html": [
       "<table>\n",
       "<caption>A tibble: 3 × 17</caption>\n",
       "<thead>\n",
       "\t<tr><th scope=col>instant</th><th scope=col>dteday</th><th scope=col>season</th><th scope=col>yr</th><th scope=col>mnth</th><th scope=col>hr</th><th scope=col>holiday</th><th scope=col>weekday</th><th scope=col>workingday</th><th scope=col>weathersit</th><th scope=col>temperature</th><th scope=col>atemp</th><th scope=col>hum</th><th scope=col>windspeed</th><th scope=col>casual</th><th scope=col>registered</th><th scope=col>cnt</th></tr>\n",
       "\t<tr><th scope=col>&lt;dbl&gt;</th><th scope=col>&lt;date&gt;</th><th scope=col>&lt;dbl&gt;</th><th scope=col>&lt;dbl&gt;</th><th scope=col>&lt;dbl&gt;</th><th scope=col>&lt;dbl&gt;</th><th scope=col>&lt;dbl&gt;</th><th scope=col>&lt;dbl&gt;</th><th scope=col>&lt;dbl&gt;</th><th scope=col>&lt;dbl&gt;</th><th scope=col>&lt;dbl&gt;</th><th scope=col>&lt;dbl&gt;</th><th scope=col>&lt;dbl&gt;</th><th scope=col>&lt;dbl&gt;</th><th scope=col>&lt;dbl&gt;</th><th scope=col>&lt;dbl&gt;</th><th scope=col>&lt;dbl&gt;</th></tr>\n",
       "</thead>\n",
       "<tbody>\n",
       "\t<tr><td>1</td><td>2011-01-01</td><td>1</td><td>0</td><td>1</td><td>0</td><td>0</td><td>6</td><td>0</td><td>1</td><td>0.24</td><td>0.2879</td><td>0.81</td><td>0</td><td>3</td><td>13</td><td>16</td></tr>\n",
       "\t<tr><td>2</td><td>2011-01-01</td><td>1</td><td>0</td><td>1</td><td>1</td><td>0</td><td>6</td><td>0</td><td>1</td><td>0.22</td><td>0.2727</td><td>0.80</td><td>0</td><td>8</td><td>32</td><td>40</td></tr>\n",
       "\t<tr><td>3</td><td>2011-01-01</td><td>1</td><td>0</td><td>1</td><td>2</td><td>0</td><td>6</td><td>0</td><td>1</td><td>0.22</td><td>0.2727</td><td>0.80</td><td>0</td><td>5</td><td>27</td><td>32</td></tr>\n",
       "</tbody>\n",
       "</table>\n"
      ],
      "text/latex": [
       "A tibble: 3 × 17\n",
       "\\begin{tabular}{r|lllllllllllllllll}\n",
       " instant & dteday & season & yr & mnth & hr & holiday & weekday & workingday & weathersit & temperature & atemp & hum & windspeed & casual & registered & cnt\\\\\n",
       " <dbl> & <date> & <dbl> & <dbl> & <dbl> & <dbl> & <dbl> & <dbl> & <dbl> & <dbl> & <dbl> & <dbl> & <dbl> & <dbl> & <dbl> & <dbl> & <dbl>\\\\\n",
       "\\hline\n",
       "\t 1 & 2011-01-01 & 1 & 0 & 1 & 0 & 0 & 6 & 0 & 1 & 0.24 & 0.2879 & 0.81 & 0 & 3 & 13 & 16\\\\\n",
       "\t 2 & 2011-01-01 & 1 & 0 & 1 & 1 & 0 & 6 & 0 & 1 & 0.22 & 0.2727 & 0.80 & 0 & 8 & 32 & 40\\\\\n",
       "\t 3 & 2011-01-01 & 1 & 0 & 1 & 2 & 0 & 6 & 0 & 1 & 0.22 & 0.2727 & 0.80 & 0 & 5 & 27 & 32\\\\\n",
       "\\end{tabular}\n"
      ],
      "text/markdown": [
       "\n",
       "A tibble: 3 × 17\n",
       "\n",
       "| instant &lt;dbl&gt; | dteday &lt;date&gt; | season &lt;dbl&gt; | yr &lt;dbl&gt; | mnth &lt;dbl&gt; | hr &lt;dbl&gt; | holiday &lt;dbl&gt; | weekday &lt;dbl&gt; | workingday &lt;dbl&gt; | weathersit &lt;dbl&gt; | temperature &lt;dbl&gt; | atemp &lt;dbl&gt; | hum &lt;dbl&gt; | windspeed &lt;dbl&gt; | casual &lt;dbl&gt; | registered &lt;dbl&gt; | cnt &lt;dbl&gt; |\n",
       "|---|---|---|---|---|---|---|---|---|---|---|---|---|---|---|---|---|\n",
       "| 1 | 2011-01-01 | 1 | 0 | 1 | 0 | 0 | 6 | 0 | 1 | 0.24 | 0.2879 | 0.81 | 0 | 3 | 13 | 16 |\n",
       "| 2 | 2011-01-01 | 1 | 0 | 1 | 1 | 0 | 6 | 0 | 1 | 0.22 | 0.2727 | 0.80 | 0 | 8 | 32 | 40 |\n",
       "| 3 | 2011-01-01 | 1 | 0 | 1 | 2 | 0 | 6 | 0 | 1 | 0.22 | 0.2727 | 0.80 | 0 | 5 | 27 | 32 |\n",
       "\n"
      ],
      "text/plain": [
       "  instant dteday     season yr mnth hr holiday weekday workingday weathersit\n",
       "1 1       2011-01-01 1      0  1    0  0       6       0          1         \n",
       "2 2       2011-01-01 1      0  1    1  0       6       0          1         \n",
       "3 3       2011-01-01 1      0  1    2  0       6       0          1         \n",
       "  temperature atemp  hum  windspeed casual registered cnt\n",
       "1 0.24        0.2879 0.81 0         3      13         16 \n",
       "2 0.22        0.2727 0.80 0         8      32         40 \n",
       "3 0.22        0.2727 0.80 0         5      27         32 "
      ]
     },
     "metadata": {},
     "output_type": "display_data"
    }
   ],
   "source": [
    "bike_df2 <- rename(bike_df, temperature = temp)\n",
    "\n",
    "bike_df2 %>%\n",
    "head(3)\n",
    "#change temp column name to temperature."
   ]
  },
  {
   "cell_type": "code",
   "execution_count": 75,
   "metadata": {},
   "outputs": [
    {
     "data": {
      "text/html": [
       "<table>\n",
       "<caption>A tibble: 3 × 3</caption>\n",
       "<thead>\n",
       "\t<tr><th scope=col>season</th><th scope=col>dteday</th><th scope=col>instant</th></tr>\n",
       "\t<tr><th scope=col>&lt;dbl&gt;</th><th scope=col>&lt;date&gt;</th><th scope=col>&lt;dbl&gt;</th></tr>\n",
       "</thead>\n",
       "<tbody>\n",
       "\t<tr><td>1</td><td>2011-01-01</td><td>1</td></tr>\n",
       "\t<tr><td>1</td><td>2011-01-01</td><td>2</td></tr>\n",
       "\t<tr><td>1</td><td>2011-01-01</td><td>3</td></tr>\n",
       "</tbody>\n",
       "</table>\n"
      ],
      "text/latex": [
       "A tibble: 3 × 3\n",
       "\\begin{tabular}{r|lll}\n",
       " season & dteday & instant\\\\\n",
       " <dbl> & <date> & <dbl>\\\\\n",
       "\\hline\n",
       "\t 1 & 2011-01-01 & 1\\\\\n",
       "\t 1 & 2011-01-01 & 2\\\\\n",
       "\t 1 & 2011-01-01 & 3\\\\\n",
       "\\end{tabular}\n"
      ],
      "text/markdown": [
       "\n",
       "A tibble: 3 × 3\n",
       "\n",
       "| season &lt;dbl&gt; | dteday &lt;date&gt; | instant &lt;dbl&gt; |\n",
       "|---|---|---|\n",
       "| 1 | 2011-01-01 | 1 |\n",
       "| 1 | 2011-01-01 | 2 |\n",
       "| 1 | 2011-01-01 | 3 |\n",
       "\n"
      ],
      "text/plain": [
       "  season dteday     instant\n",
       "1 1      2011-01-01 1      \n",
       "2 1      2011-01-01 2      \n",
       "3 1      2011-01-01 3      "
      ]
     },
     "metadata": {},
     "output_type": "display_data"
    }
   ],
   "source": [
    "bd <- bike_df[,c(3, 2, 1)]\n",
    "\n",
    "bd %>%\n",
    "head(3)\n",
    "#get first, second and last column to be in descending order."
   ]
  },
  {
   "cell_type": "markdown",
   "metadata": {},
   "source": [
    "### Task (d): groups and not (10 marks)\n",
    "\n",
    "Working on `bike_df`, show that you can produce new variables (columns) and modify existing one; show also that you can operate on the dataframe as a whole and on groups. See *Readme.txt* to get an understanding of the variable scaling applied.\n",
    "\n",
    "_hint_ useful functions: `mutate()`, `group_by()`, `summarise()`, `tally()`, ..."
   ]
  },
  {
   "cell_type": "code",
   "execution_count": 71,
   "metadata": {},
   "outputs": [
    {
     "data": {
      "text/html": [
       "<table>\n",
       "<caption>A tibble: 3 × 18</caption>\n",
       "<thead>\n",
       "\t<tr><th scope=col>instant</th><th scope=col>dteday</th><th scope=col>season</th><th scope=col>yr</th><th scope=col>mnth</th><th scope=col>hr</th><th scope=col>holiday</th><th scope=col>weekday</th><th scope=col>workingday</th><th scope=col>weathersit</th><th scope=col>temp</th><th scope=col>atemp</th><th scope=col>hum</th><th scope=col>windspeed</th><th scope=col>casual</th><th scope=col>registered</th><th scope=col>cnt</th><th scope=col>RANDOM</th></tr>\n",
       "\t<tr><th scope=col>&lt;dbl&gt;</th><th scope=col>&lt;date&gt;</th><th scope=col>&lt;dbl&gt;</th><th scope=col>&lt;dbl&gt;</th><th scope=col>&lt;dbl&gt;</th><th scope=col>&lt;dbl&gt;</th><th scope=col>&lt;dbl&gt;</th><th scope=col>&lt;dbl&gt;</th><th scope=col>&lt;dbl&gt;</th><th scope=col>&lt;dbl&gt;</th><th scope=col>&lt;dbl&gt;</th><th scope=col>&lt;dbl&gt;</th><th scope=col>&lt;dbl&gt;</th><th scope=col>&lt;dbl&gt;</th><th scope=col>&lt;dbl&gt;</th><th scope=col>&lt;dbl&gt;</th><th scope=col>&lt;dbl&gt;</th><th scope=col>&lt;dbl&gt;</th></tr>\n",
       "</thead>\n",
       "<tbody>\n",
       "\t<tr><td>1</td><td>2011-01-01</td><td>1</td><td>0</td><td>1</td><td>0</td><td>0</td><td>6</td><td>0</td><td>1</td><td>0.24</td><td>0.2879</td><td>0.81</td><td>0</td><td>3</td><td>13</td><td>16</td><td>1</td></tr>\n",
       "\t<tr><td>2</td><td>2011-01-01</td><td>1</td><td>0</td><td>1</td><td>1</td><td>0</td><td>6</td><td>0</td><td>1</td><td>0.22</td><td>0.2727</td><td>0.80</td><td>0</td><td>8</td><td>32</td><td>40</td><td>2</td></tr>\n",
       "\t<tr><td>3</td><td>2011-01-01</td><td>1</td><td>0</td><td>1</td><td>2</td><td>0</td><td>6</td><td>0</td><td>1</td><td>0.22</td><td>0.2727</td><td>0.80</td><td>0</td><td>5</td><td>27</td><td>32</td><td>3</td></tr>\n",
       "</tbody>\n",
       "</table>\n"
      ],
      "text/latex": [
       "A tibble: 3 × 18\n",
       "\\begin{tabular}{r|llllllllllllllllll}\n",
       " instant & dteday & season & yr & mnth & hr & holiday & weekday & workingday & weathersit & temp & atemp & hum & windspeed & casual & registered & cnt & RANDOM\\\\\n",
       " <dbl> & <date> & <dbl> & <dbl> & <dbl> & <dbl> & <dbl> & <dbl> & <dbl> & <dbl> & <dbl> & <dbl> & <dbl> & <dbl> & <dbl> & <dbl> & <dbl> & <dbl>\\\\\n",
       "\\hline\n",
       "\t 1 & 2011-01-01 & 1 & 0 & 1 & 0 & 0 & 6 & 0 & 1 & 0.24 & 0.2879 & 0.81 & 0 & 3 & 13 & 16 & 1\\\\\n",
       "\t 2 & 2011-01-01 & 1 & 0 & 1 & 1 & 0 & 6 & 0 & 1 & 0.22 & 0.2727 & 0.80 & 0 & 8 & 32 & 40 & 2\\\\\n",
       "\t 3 & 2011-01-01 & 1 & 0 & 1 & 2 & 0 & 6 & 0 & 1 & 0.22 & 0.2727 & 0.80 & 0 & 5 & 27 & 32 & 3\\\\\n",
       "\\end{tabular}\n"
      ],
      "text/markdown": [
       "\n",
       "A tibble: 3 × 18\n",
       "\n",
       "| instant &lt;dbl&gt; | dteday &lt;date&gt; | season &lt;dbl&gt; | yr &lt;dbl&gt; | mnth &lt;dbl&gt; | hr &lt;dbl&gt; | holiday &lt;dbl&gt; | weekday &lt;dbl&gt; | workingday &lt;dbl&gt; | weathersit &lt;dbl&gt; | temp &lt;dbl&gt; | atemp &lt;dbl&gt; | hum &lt;dbl&gt; | windspeed &lt;dbl&gt; | casual &lt;dbl&gt; | registered &lt;dbl&gt; | cnt &lt;dbl&gt; | RANDOM &lt;dbl&gt; |\n",
       "|---|---|---|---|---|---|---|---|---|---|---|---|---|---|---|---|---|---|\n",
       "| 1 | 2011-01-01 | 1 | 0 | 1 | 0 | 0 | 6 | 0 | 1 | 0.24 | 0.2879 | 0.81 | 0 | 3 | 13 | 16 | 1 |\n",
       "| 2 | 2011-01-01 | 1 | 0 | 1 | 1 | 0 | 6 | 0 | 1 | 0.22 | 0.2727 | 0.80 | 0 | 8 | 32 | 40 | 2 |\n",
       "| 3 | 2011-01-01 | 1 | 0 | 1 | 2 | 0 | 6 | 0 | 1 | 0.22 | 0.2727 | 0.80 | 0 | 5 | 27 | 32 | 3 |\n",
       "\n"
      ],
      "text/plain": [
       "  instant dteday     season yr mnth hr holiday weekday workingday weathersit\n",
       "1 1       2011-01-01 1      0  1    0  0       6       0          1         \n",
       "2 2       2011-01-01 1      0  1    1  0       6       0          1         \n",
       "3 3       2011-01-01 1      0  1    2  0       6       0          1         \n",
       "  temp atemp  hum  windspeed casual registered cnt RANDOM\n",
       "1 0.24 0.2879 0.81 0         3      13         16  1     \n",
       "2 0.22 0.2727 0.80 0         8      32         40  2     \n",
       "3 0.22 0.2727 0.80 0         5      27         32  3     "
      ]
     },
     "metadata": {},
     "output_type": "display_data"
    }
   ],
   "source": [
    "bike_df %>%\n",
    "mutate(RANDOM = hr + mnth) %>%\n",
    "head(3)\n",
    "# make a new column called RANDOM that is total of mnth and hr."
   ]
  },
  {
   "cell_type": "code",
   "execution_count": 78,
   "metadata": {},
   "outputs": [
    {
     "data": {
      "text/html": [
       "<table>\n",
       "<caption>A tibble: 1 × 1</caption>\n",
       "<thead>\n",
       "\t<tr><th scope=col>median_temp</th></tr>\n",
       "\t<tr><th scope=col>&lt;dbl&gt;</th></tr>\n",
       "</thead>\n",
       "<tbody>\n",
       "\t<tr><td>0.5</td></tr>\n",
       "</tbody>\n",
       "</table>\n"
      ],
      "text/latex": [
       "A tibble: 1 × 1\n",
       "\\begin{tabular}{r|l}\n",
       " median\\_temp\\\\\n",
       " <dbl>\\\\\n",
       "\\hline\n",
       "\t 0.5\\\\\n",
       "\\end{tabular}\n"
      ],
      "text/markdown": [
       "\n",
       "A tibble: 1 × 1\n",
       "\n",
       "| median_temp &lt;dbl&gt; |\n",
       "|---|\n",
       "| 0.5 |\n",
       "\n"
      ],
      "text/plain": [
       "  median_temp\n",
       "1 0.5        "
      ]
     },
     "metadata": {},
     "output_type": "display_data"
    }
   ],
   "source": [
    "bike_df %>%\n",
    "summarise(median_temp = median(temp))\n",
    "# take all the value from temp column and get an average"
   ]
  },
  {
   "cell_type": "code",
   "execution_count": 73,
   "metadata": {},
   "outputs": [
    {
     "data": {
      "text/html": [
       "<table>\n",
       "<caption>A tibble: 12 × 2</caption>\n",
       "<thead>\n",
       "\t<tr><th scope=col>mnth</th><th scope=col>median_temp</th></tr>\n",
       "\t<tr><th scope=col>&lt;dbl&gt;</th><th scope=col>&lt;dbl&gt;</th></tr>\n",
       "</thead>\n",
       "<tbody>\n",
       "\t<tr><td> 1</td><td>0.22</td></tr>\n",
       "\t<tr><td> 2</td><td>0.30</td></tr>\n",
       "\t<tr><td> 3</td><td>0.38</td></tr>\n",
       "\t<tr><td> 4</td><td>0.46</td></tr>\n",
       "\t<tr><td> 5</td><td>0.60</td></tr>\n",
       "\t<tr><td> 6</td><td>0.68</td></tr>\n",
       "\t<tr><td> 7</td><td>0.74</td></tr>\n",
       "\t<tr><td> 8</td><td>0.70</td></tr>\n",
       "\t<tr><td> 9</td><td>0.62</td></tr>\n",
       "\t<tr><td>10</td><td>0.50</td></tr>\n",
       "\t<tr><td>11</td><td>0.36</td></tr>\n",
       "\t<tr><td>12</td><td>0.32</td></tr>\n",
       "</tbody>\n",
       "</table>\n"
      ],
      "text/latex": [
       "A tibble: 12 × 2\n",
       "\\begin{tabular}{r|ll}\n",
       " mnth & median\\_temp\\\\\n",
       " <dbl> & <dbl>\\\\\n",
       "\\hline\n",
       "\t  1 & 0.22\\\\\n",
       "\t  2 & 0.30\\\\\n",
       "\t  3 & 0.38\\\\\n",
       "\t  4 & 0.46\\\\\n",
       "\t  5 & 0.60\\\\\n",
       "\t  6 & 0.68\\\\\n",
       "\t  7 & 0.74\\\\\n",
       "\t  8 & 0.70\\\\\n",
       "\t  9 & 0.62\\\\\n",
       "\t 10 & 0.50\\\\\n",
       "\t 11 & 0.36\\\\\n",
       "\t 12 & 0.32\\\\\n",
       "\\end{tabular}\n"
      ],
      "text/markdown": [
       "\n",
       "A tibble: 12 × 2\n",
       "\n",
       "| mnth &lt;dbl&gt; | median_temp &lt;dbl&gt; |\n",
       "|---|---|\n",
       "|  1 | 0.22 |\n",
       "|  2 | 0.30 |\n",
       "|  3 | 0.38 |\n",
       "|  4 | 0.46 |\n",
       "|  5 | 0.60 |\n",
       "|  6 | 0.68 |\n",
       "|  7 | 0.74 |\n",
       "|  8 | 0.70 |\n",
       "|  9 | 0.62 |\n",
       "| 10 | 0.50 |\n",
       "| 11 | 0.36 |\n",
       "| 12 | 0.32 |\n",
       "\n"
      ],
      "text/plain": [
       "   mnth median_temp\n",
       "1   1   0.22       \n",
       "2   2   0.30       \n",
       "3   3   0.38       \n",
       "4   4   0.46       \n",
       "5   5   0.60       \n",
       "6   6   0.68       \n",
       "7   7   0.74       \n",
       "8   8   0.70       \n",
       "9   9   0.62       \n",
       "10 10   0.50       \n",
       "11 11   0.36       \n",
       "12 12   0.32       "
      ]
     },
     "metadata": {},
     "output_type": "display_data"
    }
   ],
   "source": [
    "bike_df %>%\n",
    "group_by(mnth) %>%\n",
    "summarise(median_temp = median(temp))\n",
    "# create table of average temp grouping the row by mnth."
   ]
  },
  {
   "cell_type": "code",
   "execution_count": 11,
   "metadata": {},
   "outputs": [
    {
     "data": {
      "text/html": [
       "<table>\n",
       "<caption>A tibble: 12 × 2</caption>\n",
       "<thead>\n",
       "\t<tr><th scope=col>mnth</th><th scope=col>n</th></tr>\n",
       "\t<tr><th scope=col>&lt;dbl&gt;</th><th scope=col>&lt;int&gt;</th></tr>\n",
       "</thead>\n",
       "<tbody>\n",
       "\t<tr><td> 5</td><td>1488</td></tr>\n",
       "\t<tr><td> 7</td><td>1488</td></tr>\n",
       "\t<tr><td>12</td><td>1483</td></tr>\n",
       "\t<tr><td> 8</td><td>1475</td></tr>\n",
       "\t<tr><td> 3</td><td>1473</td></tr>\n",
       "\t<tr><td>10</td><td>1451</td></tr>\n",
       "\t<tr><td> 6</td><td>1440</td></tr>\n",
       "\t<tr><td> 4</td><td>1437</td></tr>\n",
       "\t<tr><td> 9</td><td>1437</td></tr>\n",
       "\t<tr><td>11</td><td>1437</td></tr>\n",
       "\t<tr><td> 1</td><td>1429</td></tr>\n",
       "\t<tr><td> 2</td><td>1341</td></tr>\n",
       "</tbody>\n",
       "</table>\n"
      ],
      "text/latex": [
       "A tibble: 12 × 2\n",
       "\\begin{tabular}{r|ll}\n",
       " mnth & n\\\\\n",
       " <dbl> & <int>\\\\\n",
       "\\hline\n",
       "\t  5 & 1488\\\\\n",
       "\t  7 & 1488\\\\\n",
       "\t 12 & 1483\\\\\n",
       "\t  8 & 1475\\\\\n",
       "\t  3 & 1473\\\\\n",
       "\t 10 & 1451\\\\\n",
       "\t  6 & 1440\\\\\n",
       "\t  4 & 1437\\\\\n",
       "\t  9 & 1437\\\\\n",
       "\t 11 & 1437\\\\\n",
       "\t  1 & 1429\\\\\n",
       "\t  2 & 1341\\\\\n",
       "\\end{tabular}\n"
      ],
      "text/markdown": [
       "\n",
       "A tibble: 12 × 2\n",
       "\n",
       "| mnth &lt;dbl&gt; | n &lt;int&gt; |\n",
       "|---|---|\n",
       "|  5 | 1488 |\n",
       "|  7 | 1488 |\n",
       "| 12 | 1483 |\n",
       "|  8 | 1475 |\n",
       "|  3 | 1473 |\n",
       "| 10 | 1451 |\n",
       "|  6 | 1440 |\n",
       "|  4 | 1437 |\n",
       "|  9 | 1437 |\n",
       "| 11 | 1437 |\n",
       "|  1 | 1429 |\n",
       "|  2 | 1341 |\n",
       "\n"
      ],
      "text/plain": [
       "   mnth n   \n",
       "1   5   1488\n",
       "2   7   1488\n",
       "3  12   1483\n",
       "4   8   1475\n",
       "5   3   1473\n",
       "6  10   1451\n",
       "7   6   1440\n",
       "8   4   1437\n",
       "9   9   1437\n",
       "10 11   1437\n",
       "11  1   1429\n",
       "12  2   1341"
      ]
     },
     "metadata": {},
     "output_type": "display_data"
    }
   ],
   "source": [
    "bike_df %>%\n",
    "group_by(mnth) %>%\n",
    "tally() %>%\n",
    "arrange(desc(n))\n",
    "# make a sorted table to see how many entries are there for each mnth in the bike_df (may has the most entries)"
   ]
  },
  {
   "cell_type": "markdown",
   "metadata": {},
   "source": [
    "### Task (e): wide, long, tidy (10 marks)\n",
    "\n",
    "Show that you can go back and forth between the long and the wide format of a dataframe. Then produce a tidy version of `bike_df` (or, if you think the original one is is already in the tidy data shape, explain why).\n",
    "\n",
    "_hint_ useful functions: `spread()`, `gather()`, `na.omit()`, ..."
   ]
  },
  {
   "cell_type": "code",
   "execution_count": null,
   "metadata": {},
   "outputs": [],
   "source": [
    "hours.csv is already a tidy as it has columns as a type of data input, row as one entry of a data \n",
    "and cells have data inputs with correct parsing and no empty cells."
   ]
  },
  {
   "cell_type": "code",
   "execution_count": 69,
   "metadata": {},
   "outputs": [
    {
     "data": {
      "text/html": [
       "<table>\n",
       "<caption>A tibble: 30 × 19</caption>\n",
       "<thead>\n",
       "\t<tr><th scope=col>instant</th><th scope=col>dteday</th><th scope=col>yr</th><th scope=col>mnth</th><th scope=col>holiday</th><th scope=col>weekday</th><th scope=col>workingday</th><th scope=col>weathersit</th><th scope=col>temp</th><th scope=col>atemp</th><th scope=col>hum</th><th scope=col>windspeed</th><th scope=col>casual</th><th scope=col>registered</th><th scope=col>cnt</th><th scope=col>1</th><th scope=col>2</th><th scope=col>3</th><th scope=col>4</th></tr>\n",
       "\t<tr><th scope=col>&lt;dbl&gt;</th><th scope=col>&lt;date&gt;</th><th scope=col>&lt;dbl&gt;</th><th scope=col>&lt;dbl&gt;</th><th scope=col>&lt;dbl&gt;</th><th scope=col>&lt;dbl&gt;</th><th scope=col>&lt;dbl&gt;</th><th scope=col>&lt;dbl&gt;</th><th scope=col>&lt;dbl&gt;</th><th scope=col>&lt;dbl&gt;</th><th scope=col>&lt;dbl&gt;</th><th scope=col>&lt;dbl&gt;</th><th scope=col>&lt;dbl&gt;</th><th scope=col>&lt;dbl&gt;</th><th scope=col>&lt;dbl&gt;</th><th scope=col>&lt;dbl&gt;</th><th scope=col>&lt;dbl&gt;</th><th scope=col>&lt;dbl&gt;</th><th scope=col>&lt;dbl&gt;</th></tr>\n",
       "</thead>\n",
       "<tbody>\n",
       "\t<tr><td> 1</td><td>2011-01-01</td><td>0</td><td>1</td><td>0</td><td>6</td><td>0</td><td>1</td><td>0.24</td><td>0.2879</td><td>0.81</td><td>0.0000</td><td> 3</td><td>13</td><td> 16</td><td> 0</td><td>NA</td><td>NA</td><td>NA</td></tr>\n",
       "\t<tr><td> 2</td><td>2011-01-01</td><td>0</td><td>1</td><td>0</td><td>6</td><td>0</td><td>1</td><td>0.22</td><td>0.2727</td><td>0.80</td><td>0.0000</td><td> 8</td><td>32</td><td> 40</td><td> 1</td><td>NA</td><td>NA</td><td>NA</td></tr>\n",
       "\t<tr><td> 3</td><td>2011-01-01</td><td>0</td><td>1</td><td>0</td><td>6</td><td>0</td><td>1</td><td>0.22</td><td>0.2727</td><td>0.80</td><td>0.0000</td><td> 5</td><td>27</td><td> 32</td><td> 2</td><td>NA</td><td>NA</td><td>NA</td></tr>\n",
       "\t<tr><td> 4</td><td>2011-01-01</td><td>0</td><td>1</td><td>0</td><td>6</td><td>0</td><td>1</td><td>0.24</td><td>0.2879</td><td>0.75</td><td>0.0000</td><td> 3</td><td>10</td><td> 13</td><td> 3</td><td>NA</td><td>NA</td><td>NA</td></tr>\n",
       "\t<tr><td> 5</td><td>2011-01-01</td><td>0</td><td>1</td><td>0</td><td>6</td><td>0</td><td>1</td><td>0.24</td><td>0.2879</td><td>0.75</td><td>0.0000</td><td> 0</td><td> 1</td><td>  1</td><td> 4</td><td>NA</td><td>NA</td><td>NA</td></tr>\n",
       "\t<tr><td> 6</td><td>2011-01-01</td><td>0</td><td>1</td><td>0</td><td>6</td><td>0</td><td>2</td><td>0.24</td><td>0.2576</td><td>0.75</td><td>0.0896</td><td> 0</td><td> 1</td><td>  1</td><td> 5</td><td>NA</td><td>NA</td><td>NA</td></tr>\n",
       "\t<tr><td> 7</td><td>2011-01-01</td><td>0</td><td>1</td><td>0</td><td>6</td><td>0</td><td>1</td><td>0.22</td><td>0.2727</td><td>0.80</td><td>0.0000</td><td> 2</td><td> 0</td><td>  2</td><td> 6</td><td>NA</td><td>NA</td><td>NA</td></tr>\n",
       "\t<tr><td> 8</td><td>2011-01-01</td><td>0</td><td>1</td><td>0</td><td>6</td><td>0</td><td>1</td><td>0.20</td><td>0.2576</td><td>0.86</td><td>0.0000</td><td> 1</td><td> 2</td><td>  3</td><td> 7</td><td>NA</td><td>NA</td><td>NA</td></tr>\n",
       "\t<tr><td> 9</td><td>2011-01-01</td><td>0</td><td>1</td><td>0</td><td>6</td><td>0</td><td>1</td><td>0.24</td><td>0.2879</td><td>0.75</td><td>0.0000</td><td> 1</td><td> 7</td><td>  8</td><td> 8</td><td>NA</td><td>NA</td><td>NA</td></tr>\n",
       "\t<tr><td>10</td><td>2011-01-01</td><td>0</td><td>1</td><td>0</td><td>6</td><td>0</td><td>1</td><td>0.32</td><td>0.3485</td><td>0.76</td><td>0.0000</td><td> 8</td><td> 6</td><td> 14</td><td> 9</td><td>NA</td><td>NA</td><td>NA</td></tr>\n",
       "\t<tr><td>11</td><td>2011-01-01</td><td>0</td><td>1</td><td>0</td><td>6</td><td>0</td><td>1</td><td>0.38</td><td>0.3939</td><td>0.76</td><td>0.2537</td><td>12</td><td>24</td><td> 36</td><td>10</td><td>NA</td><td>NA</td><td>NA</td></tr>\n",
       "\t<tr><td>12</td><td>2011-01-01</td><td>0</td><td>1</td><td>0</td><td>6</td><td>0</td><td>1</td><td>0.36</td><td>0.3333</td><td>0.81</td><td>0.2836</td><td>26</td><td>30</td><td> 56</td><td>11</td><td>NA</td><td>NA</td><td>NA</td></tr>\n",
       "\t<tr><td>13</td><td>2011-01-01</td><td>0</td><td>1</td><td>0</td><td>6</td><td>0</td><td>1</td><td>0.42</td><td>0.4242</td><td>0.77</td><td>0.2836</td><td>29</td><td>55</td><td> 84</td><td>12</td><td>NA</td><td>NA</td><td>NA</td></tr>\n",
       "\t<tr><td>14</td><td>2011-01-01</td><td>0</td><td>1</td><td>0</td><td>6</td><td>0</td><td>2</td><td>0.46</td><td>0.4545</td><td>0.72</td><td>0.2985</td><td>47</td><td>47</td><td> 94</td><td>13</td><td>NA</td><td>NA</td><td>NA</td></tr>\n",
       "\t<tr><td>15</td><td>2011-01-01</td><td>0</td><td>1</td><td>0</td><td>6</td><td>0</td><td>2</td><td>0.46</td><td>0.4545</td><td>0.72</td><td>0.2836</td><td>35</td><td>71</td><td>106</td><td>14</td><td>NA</td><td>NA</td><td>NA</td></tr>\n",
       "\t<tr><td>16</td><td>2011-01-01</td><td>0</td><td>1</td><td>0</td><td>6</td><td>0</td><td>2</td><td>0.44</td><td>0.4394</td><td>0.77</td><td>0.2985</td><td>40</td><td>70</td><td>110</td><td>15</td><td>NA</td><td>NA</td><td>NA</td></tr>\n",
       "\t<tr><td>17</td><td>2011-01-01</td><td>0</td><td>1</td><td>0</td><td>6</td><td>0</td><td>2</td><td>0.42</td><td>0.4242</td><td>0.82</td><td>0.2985</td><td>41</td><td>52</td><td> 93</td><td>16</td><td>NA</td><td>NA</td><td>NA</td></tr>\n",
       "\t<tr><td>18</td><td>2011-01-01</td><td>0</td><td>1</td><td>0</td><td>6</td><td>0</td><td>2</td><td>0.44</td><td>0.4394</td><td>0.82</td><td>0.2836</td><td>15</td><td>52</td><td> 67</td><td>17</td><td>NA</td><td>NA</td><td>NA</td></tr>\n",
       "\t<tr><td>19</td><td>2011-01-01</td><td>0</td><td>1</td><td>0</td><td>6</td><td>0</td><td>3</td><td>0.42</td><td>0.4242</td><td>0.88</td><td>0.2537</td><td> 9</td><td>26</td><td> 35</td><td>18</td><td>NA</td><td>NA</td><td>NA</td></tr>\n",
       "\t<tr><td>20</td><td>2011-01-01</td><td>0</td><td>1</td><td>0</td><td>6</td><td>0</td><td>3</td><td>0.42</td><td>0.4242</td><td>0.88</td><td>0.2537</td><td> 6</td><td>31</td><td> 37</td><td>19</td><td>NA</td><td>NA</td><td>NA</td></tr>\n",
       "\t<tr><td>21</td><td>2011-01-01</td><td>0</td><td>1</td><td>0</td><td>6</td><td>0</td><td>2</td><td>0.40</td><td>0.4091</td><td>0.87</td><td>0.2537</td><td>11</td><td>25</td><td> 36</td><td>20</td><td>NA</td><td>NA</td><td>NA</td></tr>\n",
       "\t<tr><td>22</td><td>2011-01-01</td><td>0</td><td>1</td><td>0</td><td>6</td><td>0</td><td>2</td><td>0.40</td><td>0.4091</td><td>0.87</td><td>0.1940</td><td> 3</td><td>31</td><td> 34</td><td>21</td><td>NA</td><td>NA</td><td>NA</td></tr>\n",
       "\t<tr><td>23</td><td>2011-01-01</td><td>0</td><td>1</td><td>0</td><td>6</td><td>0</td><td>2</td><td>0.40</td><td>0.4091</td><td>0.94</td><td>0.2239</td><td>11</td><td>17</td><td> 28</td><td>22</td><td>NA</td><td>NA</td><td>NA</td></tr>\n",
       "\t<tr><td>24</td><td>2011-01-01</td><td>0</td><td>1</td><td>0</td><td>6</td><td>0</td><td>2</td><td>0.46</td><td>0.4545</td><td>0.88</td><td>0.2985</td><td>15</td><td>24</td><td> 39</td><td>23</td><td>NA</td><td>NA</td><td>NA</td></tr>\n",
       "\t<tr><td>25</td><td>2011-01-02</td><td>0</td><td>1</td><td>0</td><td>0</td><td>0</td><td>2</td><td>0.46</td><td>0.4545</td><td>0.88</td><td>0.2985</td><td> 4</td><td>13</td><td> 17</td><td> 0</td><td>NA</td><td>NA</td><td>NA</td></tr>\n",
       "\t<tr><td>26</td><td>2011-01-02</td><td>0</td><td>1</td><td>0</td><td>0</td><td>0</td><td>2</td><td>0.44</td><td>0.4394</td><td>0.94</td><td>0.2537</td><td> 1</td><td>16</td><td> 17</td><td> 1</td><td>NA</td><td>NA</td><td>NA</td></tr>\n",
       "\t<tr><td>27</td><td>2011-01-02</td><td>0</td><td>1</td><td>0</td><td>0</td><td>0</td><td>2</td><td>0.42</td><td>0.4242</td><td>1.00</td><td>0.2836</td><td> 1</td><td> 8</td><td>  9</td><td> 2</td><td>NA</td><td>NA</td><td>NA</td></tr>\n",
       "\t<tr><td>28</td><td>2011-01-02</td><td>0</td><td>1</td><td>0</td><td>0</td><td>0</td><td>2</td><td>0.46</td><td>0.4545</td><td>0.94</td><td>0.1940</td><td> 2</td><td> 4</td><td>  6</td><td> 3</td><td>NA</td><td>NA</td><td>NA</td></tr>\n",
       "\t<tr><td>29</td><td>2011-01-02</td><td>0</td><td>1</td><td>0</td><td>0</td><td>0</td><td>2</td><td>0.46</td><td>0.4545</td><td>0.94</td><td>0.1940</td><td> 2</td><td> 1</td><td>  3</td><td> 4</td><td>NA</td><td>NA</td><td>NA</td></tr>\n",
       "\t<tr><td>30</td><td>2011-01-02</td><td>0</td><td>1</td><td>0</td><td>0</td><td>0</td><td>3</td><td>0.42</td><td>0.4242</td><td>0.77</td><td>0.2985</td><td> 0</td><td> 2</td><td>  2</td><td> 6</td><td>NA</td><td>NA</td><td>NA</td></tr>\n",
       "</tbody>\n",
       "</table>\n"
      ],
      "text/latex": [
       "A tibble: 30 × 19\n",
       "\\begin{tabular}{r|lllllllllllllllllll}\n",
       " instant & dteday & yr & mnth & holiday & weekday & workingday & weathersit & temp & atemp & hum & windspeed & casual & registered & cnt & 1 & 2 & 3 & 4\\\\\n",
       " <dbl> & <date> & <dbl> & <dbl> & <dbl> & <dbl> & <dbl> & <dbl> & <dbl> & <dbl> & <dbl> & <dbl> & <dbl> & <dbl> & <dbl> & <dbl> & <dbl> & <dbl> & <dbl>\\\\\n",
       "\\hline\n",
       "\t  1 & 2011-01-01 & 0 & 1 & 0 & 6 & 0 & 1 & 0.24 & 0.2879 & 0.81 & 0.0000 &  3 & 13 &  16 &  0 & NA & NA & NA\\\\\n",
       "\t  2 & 2011-01-01 & 0 & 1 & 0 & 6 & 0 & 1 & 0.22 & 0.2727 & 0.80 & 0.0000 &  8 & 32 &  40 &  1 & NA & NA & NA\\\\\n",
       "\t  3 & 2011-01-01 & 0 & 1 & 0 & 6 & 0 & 1 & 0.22 & 0.2727 & 0.80 & 0.0000 &  5 & 27 &  32 &  2 & NA & NA & NA\\\\\n",
       "\t  4 & 2011-01-01 & 0 & 1 & 0 & 6 & 0 & 1 & 0.24 & 0.2879 & 0.75 & 0.0000 &  3 & 10 &  13 &  3 & NA & NA & NA\\\\\n",
       "\t  5 & 2011-01-01 & 0 & 1 & 0 & 6 & 0 & 1 & 0.24 & 0.2879 & 0.75 & 0.0000 &  0 &  1 &   1 &  4 & NA & NA & NA\\\\\n",
       "\t  6 & 2011-01-01 & 0 & 1 & 0 & 6 & 0 & 2 & 0.24 & 0.2576 & 0.75 & 0.0896 &  0 &  1 &   1 &  5 & NA & NA & NA\\\\\n",
       "\t  7 & 2011-01-01 & 0 & 1 & 0 & 6 & 0 & 1 & 0.22 & 0.2727 & 0.80 & 0.0000 &  2 &  0 &   2 &  6 & NA & NA & NA\\\\\n",
       "\t  8 & 2011-01-01 & 0 & 1 & 0 & 6 & 0 & 1 & 0.20 & 0.2576 & 0.86 & 0.0000 &  1 &  2 &   3 &  7 & NA & NA & NA\\\\\n",
       "\t  9 & 2011-01-01 & 0 & 1 & 0 & 6 & 0 & 1 & 0.24 & 0.2879 & 0.75 & 0.0000 &  1 &  7 &   8 &  8 & NA & NA & NA\\\\\n",
       "\t 10 & 2011-01-01 & 0 & 1 & 0 & 6 & 0 & 1 & 0.32 & 0.3485 & 0.76 & 0.0000 &  8 &  6 &  14 &  9 & NA & NA & NA\\\\\n",
       "\t 11 & 2011-01-01 & 0 & 1 & 0 & 6 & 0 & 1 & 0.38 & 0.3939 & 0.76 & 0.2537 & 12 & 24 &  36 & 10 & NA & NA & NA\\\\\n",
       "\t 12 & 2011-01-01 & 0 & 1 & 0 & 6 & 0 & 1 & 0.36 & 0.3333 & 0.81 & 0.2836 & 26 & 30 &  56 & 11 & NA & NA & NA\\\\\n",
       "\t 13 & 2011-01-01 & 0 & 1 & 0 & 6 & 0 & 1 & 0.42 & 0.4242 & 0.77 & 0.2836 & 29 & 55 &  84 & 12 & NA & NA & NA\\\\\n",
       "\t 14 & 2011-01-01 & 0 & 1 & 0 & 6 & 0 & 2 & 0.46 & 0.4545 & 0.72 & 0.2985 & 47 & 47 &  94 & 13 & NA & NA & NA\\\\\n",
       "\t 15 & 2011-01-01 & 0 & 1 & 0 & 6 & 0 & 2 & 0.46 & 0.4545 & 0.72 & 0.2836 & 35 & 71 & 106 & 14 & NA & NA & NA\\\\\n",
       "\t 16 & 2011-01-01 & 0 & 1 & 0 & 6 & 0 & 2 & 0.44 & 0.4394 & 0.77 & 0.2985 & 40 & 70 & 110 & 15 & NA & NA & NA\\\\\n",
       "\t 17 & 2011-01-01 & 0 & 1 & 0 & 6 & 0 & 2 & 0.42 & 0.4242 & 0.82 & 0.2985 & 41 & 52 &  93 & 16 & NA & NA & NA\\\\\n",
       "\t 18 & 2011-01-01 & 0 & 1 & 0 & 6 & 0 & 2 & 0.44 & 0.4394 & 0.82 & 0.2836 & 15 & 52 &  67 & 17 & NA & NA & NA\\\\\n",
       "\t 19 & 2011-01-01 & 0 & 1 & 0 & 6 & 0 & 3 & 0.42 & 0.4242 & 0.88 & 0.2537 &  9 & 26 &  35 & 18 & NA & NA & NA\\\\\n",
       "\t 20 & 2011-01-01 & 0 & 1 & 0 & 6 & 0 & 3 & 0.42 & 0.4242 & 0.88 & 0.2537 &  6 & 31 &  37 & 19 & NA & NA & NA\\\\\n",
       "\t 21 & 2011-01-01 & 0 & 1 & 0 & 6 & 0 & 2 & 0.40 & 0.4091 & 0.87 & 0.2537 & 11 & 25 &  36 & 20 & NA & NA & NA\\\\\n",
       "\t 22 & 2011-01-01 & 0 & 1 & 0 & 6 & 0 & 2 & 0.40 & 0.4091 & 0.87 & 0.1940 &  3 & 31 &  34 & 21 & NA & NA & NA\\\\\n",
       "\t 23 & 2011-01-01 & 0 & 1 & 0 & 6 & 0 & 2 & 0.40 & 0.4091 & 0.94 & 0.2239 & 11 & 17 &  28 & 22 & NA & NA & NA\\\\\n",
       "\t 24 & 2011-01-01 & 0 & 1 & 0 & 6 & 0 & 2 & 0.46 & 0.4545 & 0.88 & 0.2985 & 15 & 24 &  39 & 23 & NA & NA & NA\\\\\n",
       "\t 25 & 2011-01-02 & 0 & 1 & 0 & 0 & 0 & 2 & 0.46 & 0.4545 & 0.88 & 0.2985 &  4 & 13 &  17 &  0 & NA & NA & NA\\\\\n",
       "\t 26 & 2011-01-02 & 0 & 1 & 0 & 0 & 0 & 2 & 0.44 & 0.4394 & 0.94 & 0.2537 &  1 & 16 &  17 &  1 & NA & NA & NA\\\\\n",
       "\t 27 & 2011-01-02 & 0 & 1 & 0 & 0 & 0 & 2 & 0.42 & 0.4242 & 1.00 & 0.2836 &  1 &  8 &   9 &  2 & NA & NA & NA\\\\\n",
       "\t 28 & 2011-01-02 & 0 & 1 & 0 & 0 & 0 & 2 & 0.46 & 0.4545 & 0.94 & 0.1940 &  2 &  4 &   6 &  3 & NA & NA & NA\\\\\n",
       "\t 29 & 2011-01-02 & 0 & 1 & 0 & 0 & 0 & 2 & 0.46 & 0.4545 & 0.94 & 0.1940 &  2 &  1 &   3 &  4 & NA & NA & NA\\\\\n",
       "\t 30 & 2011-01-02 & 0 & 1 & 0 & 0 & 0 & 3 & 0.42 & 0.4242 & 0.77 & 0.2985 &  0 &  2 &   2 &  6 & NA & NA & NA\\\\\n",
       "\\end{tabular}\n"
      ],
      "text/markdown": [
       "\n",
       "A tibble: 30 × 19\n",
       "\n",
       "| instant &lt;dbl&gt; | dteday &lt;date&gt; | yr &lt;dbl&gt; | mnth &lt;dbl&gt; | holiday &lt;dbl&gt; | weekday &lt;dbl&gt; | workingday &lt;dbl&gt; | weathersit &lt;dbl&gt; | temp &lt;dbl&gt; | atemp &lt;dbl&gt; | hum &lt;dbl&gt; | windspeed &lt;dbl&gt; | casual &lt;dbl&gt; | registered &lt;dbl&gt; | cnt &lt;dbl&gt; | 1 &lt;dbl&gt; | 2 &lt;dbl&gt; | 3 &lt;dbl&gt; | 4 &lt;dbl&gt; |\n",
       "|---|---|---|---|---|---|---|---|---|---|---|---|---|---|---|---|---|---|---|\n",
       "|  1 | 2011-01-01 | 0 | 1 | 0 | 6 | 0 | 1 | 0.24 | 0.2879 | 0.81 | 0.0000 |  3 | 13 |  16 |  0 | NA | NA | NA |\n",
       "|  2 | 2011-01-01 | 0 | 1 | 0 | 6 | 0 | 1 | 0.22 | 0.2727 | 0.80 | 0.0000 |  8 | 32 |  40 |  1 | NA | NA | NA |\n",
       "|  3 | 2011-01-01 | 0 | 1 | 0 | 6 | 0 | 1 | 0.22 | 0.2727 | 0.80 | 0.0000 |  5 | 27 |  32 |  2 | NA | NA | NA |\n",
       "|  4 | 2011-01-01 | 0 | 1 | 0 | 6 | 0 | 1 | 0.24 | 0.2879 | 0.75 | 0.0000 |  3 | 10 |  13 |  3 | NA | NA | NA |\n",
       "|  5 | 2011-01-01 | 0 | 1 | 0 | 6 | 0 | 1 | 0.24 | 0.2879 | 0.75 | 0.0000 |  0 |  1 |   1 |  4 | NA | NA | NA |\n",
       "|  6 | 2011-01-01 | 0 | 1 | 0 | 6 | 0 | 2 | 0.24 | 0.2576 | 0.75 | 0.0896 |  0 |  1 |   1 |  5 | NA | NA | NA |\n",
       "|  7 | 2011-01-01 | 0 | 1 | 0 | 6 | 0 | 1 | 0.22 | 0.2727 | 0.80 | 0.0000 |  2 |  0 |   2 |  6 | NA | NA | NA |\n",
       "|  8 | 2011-01-01 | 0 | 1 | 0 | 6 | 0 | 1 | 0.20 | 0.2576 | 0.86 | 0.0000 |  1 |  2 |   3 |  7 | NA | NA | NA |\n",
       "|  9 | 2011-01-01 | 0 | 1 | 0 | 6 | 0 | 1 | 0.24 | 0.2879 | 0.75 | 0.0000 |  1 |  7 |   8 |  8 | NA | NA | NA |\n",
       "| 10 | 2011-01-01 | 0 | 1 | 0 | 6 | 0 | 1 | 0.32 | 0.3485 | 0.76 | 0.0000 |  8 |  6 |  14 |  9 | NA | NA | NA |\n",
       "| 11 | 2011-01-01 | 0 | 1 | 0 | 6 | 0 | 1 | 0.38 | 0.3939 | 0.76 | 0.2537 | 12 | 24 |  36 | 10 | NA | NA | NA |\n",
       "| 12 | 2011-01-01 | 0 | 1 | 0 | 6 | 0 | 1 | 0.36 | 0.3333 | 0.81 | 0.2836 | 26 | 30 |  56 | 11 | NA | NA | NA |\n",
       "| 13 | 2011-01-01 | 0 | 1 | 0 | 6 | 0 | 1 | 0.42 | 0.4242 | 0.77 | 0.2836 | 29 | 55 |  84 | 12 | NA | NA | NA |\n",
       "| 14 | 2011-01-01 | 0 | 1 | 0 | 6 | 0 | 2 | 0.46 | 0.4545 | 0.72 | 0.2985 | 47 | 47 |  94 | 13 | NA | NA | NA |\n",
       "| 15 | 2011-01-01 | 0 | 1 | 0 | 6 | 0 | 2 | 0.46 | 0.4545 | 0.72 | 0.2836 | 35 | 71 | 106 | 14 | NA | NA | NA |\n",
       "| 16 | 2011-01-01 | 0 | 1 | 0 | 6 | 0 | 2 | 0.44 | 0.4394 | 0.77 | 0.2985 | 40 | 70 | 110 | 15 | NA | NA | NA |\n",
       "| 17 | 2011-01-01 | 0 | 1 | 0 | 6 | 0 | 2 | 0.42 | 0.4242 | 0.82 | 0.2985 | 41 | 52 |  93 | 16 | NA | NA | NA |\n",
       "| 18 | 2011-01-01 | 0 | 1 | 0 | 6 | 0 | 2 | 0.44 | 0.4394 | 0.82 | 0.2836 | 15 | 52 |  67 | 17 | NA | NA | NA |\n",
       "| 19 | 2011-01-01 | 0 | 1 | 0 | 6 | 0 | 3 | 0.42 | 0.4242 | 0.88 | 0.2537 |  9 | 26 |  35 | 18 | NA | NA | NA |\n",
       "| 20 | 2011-01-01 | 0 | 1 | 0 | 6 | 0 | 3 | 0.42 | 0.4242 | 0.88 | 0.2537 |  6 | 31 |  37 | 19 | NA | NA | NA |\n",
       "| 21 | 2011-01-01 | 0 | 1 | 0 | 6 | 0 | 2 | 0.40 | 0.4091 | 0.87 | 0.2537 | 11 | 25 |  36 | 20 | NA | NA | NA |\n",
       "| 22 | 2011-01-01 | 0 | 1 | 0 | 6 | 0 | 2 | 0.40 | 0.4091 | 0.87 | 0.1940 |  3 | 31 |  34 | 21 | NA | NA | NA |\n",
       "| 23 | 2011-01-01 | 0 | 1 | 0 | 6 | 0 | 2 | 0.40 | 0.4091 | 0.94 | 0.2239 | 11 | 17 |  28 | 22 | NA | NA | NA |\n",
       "| 24 | 2011-01-01 | 0 | 1 | 0 | 6 | 0 | 2 | 0.46 | 0.4545 | 0.88 | 0.2985 | 15 | 24 |  39 | 23 | NA | NA | NA |\n",
       "| 25 | 2011-01-02 | 0 | 1 | 0 | 0 | 0 | 2 | 0.46 | 0.4545 | 0.88 | 0.2985 |  4 | 13 |  17 |  0 | NA | NA | NA |\n",
       "| 26 | 2011-01-02 | 0 | 1 | 0 | 0 | 0 | 2 | 0.44 | 0.4394 | 0.94 | 0.2537 |  1 | 16 |  17 |  1 | NA | NA | NA |\n",
       "| 27 | 2011-01-02 | 0 | 1 | 0 | 0 | 0 | 2 | 0.42 | 0.4242 | 1.00 | 0.2836 |  1 |  8 |   9 |  2 | NA | NA | NA |\n",
       "| 28 | 2011-01-02 | 0 | 1 | 0 | 0 | 0 | 2 | 0.46 | 0.4545 | 0.94 | 0.1940 |  2 |  4 |   6 |  3 | NA | NA | NA |\n",
       "| 29 | 2011-01-02 | 0 | 1 | 0 | 0 | 0 | 2 | 0.46 | 0.4545 | 0.94 | 0.1940 |  2 |  1 |   3 |  4 | NA | NA | NA |\n",
       "| 30 | 2011-01-02 | 0 | 1 | 0 | 0 | 0 | 3 | 0.42 | 0.4242 | 0.77 | 0.2985 |  0 |  2 |   2 |  6 | NA | NA | NA |\n",
       "\n"
      ],
      "text/plain": [
       "   instant dteday     yr mnth holiday weekday workingday weathersit temp atemp \n",
       "1   1      2011-01-01 0  1    0       6       0          1          0.24 0.2879\n",
       "2   2      2011-01-01 0  1    0       6       0          1          0.22 0.2727\n",
       "3   3      2011-01-01 0  1    0       6       0          1          0.22 0.2727\n",
       "4   4      2011-01-01 0  1    0       6       0          1          0.24 0.2879\n",
       "5   5      2011-01-01 0  1    0       6       0          1          0.24 0.2879\n",
       "6   6      2011-01-01 0  1    0       6       0          2          0.24 0.2576\n",
       "7   7      2011-01-01 0  1    0       6       0          1          0.22 0.2727\n",
       "8   8      2011-01-01 0  1    0       6       0          1          0.20 0.2576\n",
       "9   9      2011-01-01 0  1    0       6       0          1          0.24 0.2879\n",
       "10 10      2011-01-01 0  1    0       6       0          1          0.32 0.3485\n",
       "11 11      2011-01-01 0  1    0       6       0          1          0.38 0.3939\n",
       "12 12      2011-01-01 0  1    0       6       0          1          0.36 0.3333\n",
       "13 13      2011-01-01 0  1    0       6       0          1          0.42 0.4242\n",
       "14 14      2011-01-01 0  1    0       6       0          2          0.46 0.4545\n",
       "15 15      2011-01-01 0  1    0       6       0          2          0.46 0.4545\n",
       "16 16      2011-01-01 0  1    0       6       0          2          0.44 0.4394\n",
       "17 17      2011-01-01 0  1    0       6       0          2          0.42 0.4242\n",
       "18 18      2011-01-01 0  1    0       6       0          2          0.44 0.4394\n",
       "19 19      2011-01-01 0  1    0       6       0          3          0.42 0.4242\n",
       "20 20      2011-01-01 0  1    0       6       0          3          0.42 0.4242\n",
       "21 21      2011-01-01 0  1    0       6       0          2          0.40 0.4091\n",
       "22 22      2011-01-01 0  1    0       6       0          2          0.40 0.4091\n",
       "23 23      2011-01-01 0  1    0       6       0          2          0.40 0.4091\n",
       "24 24      2011-01-01 0  1    0       6       0          2          0.46 0.4545\n",
       "25 25      2011-01-02 0  1    0       0       0          2          0.46 0.4545\n",
       "26 26      2011-01-02 0  1    0       0       0          2          0.44 0.4394\n",
       "27 27      2011-01-02 0  1    0       0       0          2          0.42 0.4242\n",
       "28 28      2011-01-02 0  1    0       0       0          2          0.46 0.4545\n",
       "29 29      2011-01-02 0  1    0       0       0          2          0.46 0.4545\n",
       "30 30      2011-01-02 0  1    0       0       0          3          0.42 0.4242\n",
       "   hum  windspeed casual registered cnt 1  2  3  4 \n",
       "1  0.81 0.0000     3     13          16  0 NA NA NA\n",
       "2  0.80 0.0000     8     32          40  1 NA NA NA\n",
       "3  0.80 0.0000     5     27          32  2 NA NA NA\n",
       "4  0.75 0.0000     3     10          13  3 NA NA NA\n",
       "5  0.75 0.0000     0      1           1  4 NA NA NA\n",
       "6  0.75 0.0896     0      1           1  5 NA NA NA\n",
       "7  0.80 0.0000     2      0           2  6 NA NA NA\n",
       "8  0.86 0.0000     1      2           3  7 NA NA NA\n",
       "9  0.75 0.0000     1      7           8  8 NA NA NA\n",
       "10 0.76 0.0000     8      6          14  9 NA NA NA\n",
       "11 0.76 0.2537    12     24          36 10 NA NA NA\n",
       "12 0.81 0.2836    26     30          56 11 NA NA NA\n",
       "13 0.77 0.2836    29     55          84 12 NA NA NA\n",
       "14 0.72 0.2985    47     47          94 13 NA NA NA\n",
       "15 0.72 0.2836    35     71         106 14 NA NA NA\n",
       "16 0.77 0.2985    40     70         110 15 NA NA NA\n",
       "17 0.82 0.2985    41     52          93 16 NA NA NA\n",
       "18 0.82 0.2836    15     52          67 17 NA NA NA\n",
       "19 0.88 0.2537     9     26          35 18 NA NA NA\n",
       "20 0.88 0.2537     6     31          37 19 NA NA NA\n",
       "21 0.87 0.2537    11     25          36 20 NA NA NA\n",
       "22 0.87 0.1940     3     31          34 21 NA NA NA\n",
       "23 0.94 0.2239    11     17          28 22 NA NA NA\n",
       "24 0.88 0.2985    15     24          39 23 NA NA NA\n",
       "25 0.88 0.2985     4     13          17  0 NA NA NA\n",
       "26 0.94 0.2537     1     16          17  1 NA NA NA\n",
       "27 1.00 0.2836     1      8           9  2 NA NA NA\n",
       "28 0.94 0.1940     2      4           6  3 NA NA NA\n",
       "29 0.94 0.1940     2      1           3  4 NA NA NA\n",
       "30 0.77 0.2985     0      2           2  6 NA NA NA"
      ]
     },
     "metadata": {},
     "output_type": "display_data"
    },
    {
     "data": {
      "text/html": [
       "<table>\n",
       "<caption>A tibble: 17379 × 17</caption>\n",
       "<thead>\n",
       "\t<tr><th scope=col>instant</th><th scope=col>dteday</th><th scope=col>yr</th><th scope=col>mnth</th><th scope=col>holiday</th><th scope=col>weekday</th><th scope=col>workingday</th><th scope=col>weathersit</th><th scope=col>temp</th><th scope=col>atemp</th><th scope=col>hum</th><th scope=col>windspeed</th><th scope=col>casual</th><th scope=col>registered</th><th scope=col>cnt</th><th scope=col>season</th><th scope=col>hr</th></tr>\n",
       "\t<tr><th scope=col>&lt;dbl&gt;</th><th scope=col>&lt;date&gt;</th><th scope=col>&lt;dbl&gt;</th><th scope=col>&lt;dbl&gt;</th><th scope=col>&lt;dbl&gt;</th><th scope=col>&lt;dbl&gt;</th><th scope=col>&lt;dbl&gt;</th><th scope=col>&lt;dbl&gt;</th><th scope=col>&lt;dbl&gt;</th><th scope=col>&lt;dbl&gt;</th><th scope=col>&lt;dbl&gt;</th><th scope=col>&lt;dbl&gt;</th><th scope=col>&lt;dbl&gt;</th><th scope=col>&lt;dbl&gt;</th><th scope=col>&lt;dbl&gt;</th><th scope=col>&lt;chr&gt;</th><th scope=col>&lt;dbl&gt;</th></tr>\n",
       "</thead>\n",
       "<tbody>\n",
       "\t<tr><td> 1</td><td>2011-01-01</td><td>0</td><td>1</td><td>0</td><td>6</td><td>0</td><td>1</td><td>0.24</td><td>0.2879</td><td>0.81</td><td>0.0000</td><td> 3</td><td>13</td><td> 16</td><td>1</td><td> 0</td></tr>\n",
       "\t<tr><td> 2</td><td>2011-01-01</td><td>0</td><td>1</td><td>0</td><td>6</td><td>0</td><td>1</td><td>0.22</td><td>0.2727</td><td>0.80</td><td>0.0000</td><td> 8</td><td>32</td><td> 40</td><td>1</td><td> 1</td></tr>\n",
       "\t<tr><td> 3</td><td>2011-01-01</td><td>0</td><td>1</td><td>0</td><td>6</td><td>0</td><td>1</td><td>0.22</td><td>0.2727</td><td>0.80</td><td>0.0000</td><td> 5</td><td>27</td><td> 32</td><td>1</td><td> 2</td></tr>\n",
       "\t<tr><td> 4</td><td>2011-01-01</td><td>0</td><td>1</td><td>0</td><td>6</td><td>0</td><td>1</td><td>0.24</td><td>0.2879</td><td>0.75</td><td>0.0000</td><td> 3</td><td>10</td><td> 13</td><td>1</td><td> 3</td></tr>\n",
       "\t<tr><td> 5</td><td>2011-01-01</td><td>0</td><td>1</td><td>0</td><td>6</td><td>0</td><td>1</td><td>0.24</td><td>0.2879</td><td>0.75</td><td>0.0000</td><td> 0</td><td> 1</td><td>  1</td><td>1</td><td> 4</td></tr>\n",
       "\t<tr><td> 6</td><td>2011-01-01</td><td>0</td><td>1</td><td>0</td><td>6</td><td>0</td><td>2</td><td>0.24</td><td>0.2576</td><td>0.75</td><td>0.0896</td><td> 0</td><td> 1</td><td>  1</td><td>1</td><td> 5</td></tr>\n",
       "\t<tr><td> 7</td><td>2011-01-01</td><td>0</td><td>1</td><td>0</td><td>6</td><td>0</td><td>1</td><td>0.22</td><td>0.2727</td><td>0.80</td><td>0.0000</td><td> 2</td><td> 0</td><td>  2</td><td>1</td><td> 6</td></tr>\n",
       "\t<tr><td> 8</td><td>2011-01-01</td><td>0</td><td>1</td><td>0</td><td>6</td><td>0</td><td>1</td><td>0.20</td><td>0.2576</td><td>0.86</td><td>0.0000</td><td> 1</td><td> 2</td><td>  3</td><td>1</td><td> 7</td></tr>\n",
       "\t<tr><td> 9</td><td>2011-01-01</td><td>0</td><td>1</td><td>0</td><td>6</td><td>0</td><td>1</td><td>0.24</td><td>0.2879</td><td>0.75</td><td>0.0000</td><td> 1</td><td> 7</td><td>  8</td><td>1</td><td> 8</td></tr>\n",
       "\t<tr><td>10</td><td>2011-01-01</td><td>0</td><td>1</td><td>0</td><td>6</td><td>0</td><td>1</td><td>0.32</td><td>0.3485</td><td>0.76</td><td>0.0000</td><td> 8</td><td> 6</td><td> 14</td><td>1</td><td> 9</td></tr>\n",
       "\t<tr><td>11</td><td>2011-01-01</td><td>0</td><td>1</td><td>0</td><td>6</td><td>0</td><td>1</td><td>0.38</td><td>0.3939</td><td>0.76</td><td>0.2537</td><td>12</td><td>24</td><td> 36</td><td>1</td><td>10</td></tr>\n",
       "\t<tr><td>12</td><td>2011-01-01</td><td>0</td><td>1</td><td>0</td><td>6</td><td>0</td><td>1</td><td>0.36</td><td>0.3333</td><td>0.81</td><td>0.2836</td><td>26</td><td>30</td><td> 56</td><td>1</td><td>11</td></tr>\n",
       "\t<tr><td>13</td><td>2011-01-01</td><td>0</td><td>1</td><td>0</td><td>6</td><td>0</td><td>1</td><td>0.42</td><td>0.4242</td><td>0.77</td><td>0.2836</td><td>29</td><td>55</td><td> 84</td><td>1</td><td>12</td></tr>\n",
       "\t<tr><td>14</td><td>2011-01-01</td><td>0</td><td>1</td><td>0</td><td>6</td><td>0</td><td>2</td><td>0.46</td><td>0.4545</td><td>0.72</td><td>0.2985</td><td>47</td><td>47</td><td> 94</td><td>1</td><td>13</td></tr>\n",
       "\t<tr><td>15</td><td>2011-01-01</td><td>0</td><td>1</td><td>0</td><td>6</td><td>0</td><td>2</td><td>0.46</td><td>0.4545</td><td>0.72</td><td>0.2836</td><td>35</td><td>71</td><td>106</td><td>1</td><td>14</td></tr>\n",
       "\t<tr><td>16</td><td>2011-01-01</td><td>0</td><td>1</td><td>0</td><td>6</td><td>0</td><td>2</td><td>0.44</td><td>0.4394</td><td>0.77</td><td>0.2985</td><td>40</td><td>70</td><td>110</td><td>1</td><td>15</td></tr>\n",
       "\t<tr><td>17</td><td>2011-01-01</td><td>0</td><td>1</td><td>0</td><td>6</td><td>0</td><td>2</td><td>0.42</td><td>0.4242</td><td>0.82</td><td>0.2985</td><td>41</td><td>52</td><td> 93</td><td>1</td><td>16</td></tr>\n",
       "\t<tr><td>18</td><td>2011-01-01</td><td>0</td><td>1</td><td>0</td><td>6</td><td>0</td><td>2</td><td>0.44</td><td>0.4394</td><td>0.82</td><td>0.2836</td><td>15</td><td>52</td><td> 67</td><td>1</td><td>17</td></tr>\n",
       "\t<tr><td>19</td><td>2011-01-01</td><td>0</td><td>1</td><td>0</td><td>6</td><td>0</td><td>3</td><td>0.42</td><td>0.4242</td><td>0.88</td><td>0.2537</td><td> 9</td><td>26</td><td> 35</td><td>1</td><td>18</td></tr>\n",
       "\t<tr><td>20</td><td>2011-01-01</td><td>0</td><td>1</td><td>0</td><td>6</td><td>0</td><td>3</td><td>0.42</td><td>0.4242</td><td>0.88</td><td>0.2537</td><td> 6</td><td>31</td><td> 37</td><td>1</td><td>19</td></tr>\n",
       "\t<tr><td>21</td><td>2011-01-01</td><td>0</td><td>1</td><td>0</td><td>6</td><td>0</td><td>2</td><td>0.40</td><td>0.4091</td><td>0.87</td><td>0.2537</td><td>11</td><td>25</td><td> 36</td><td>1</td><td>20</td></tr>\n",
       "\t<tr><td>22</td><td>2011-01-01</td><td>0</td><td>1</td><td>0</td><td>6</td><td>0</td><td>2</td><td>0.40</td><td>0.4091</td><td>0.87</td><td>0.1940</td><td> 3</td><td>31</td><td> 34</td><td>1</td><td>21</td></tr>\n",
       "\t<tr><td>23</td><td>2011-01-01</td><td>0</td><td>1</td><td>0</td><td>6</td><td>0</td><td>2</td><td>0.40</td><td>0.4091</td><td>0.94</td><td>0.2239</td><td>11</td><td>17</td><td> 28</td><td>1</td><td>22</td></tr>\n",
       "\t<tr><td>24</td><td>2011-01-01</td><td>0</td><td>1</td><td>0</td><td>6</td><td>0</td><td>2</td><td>0.46</td><td>0.4545</td><td>0.88</td><td>0.2985</td><td>15</td><td>24</td><td> 39</td><td>1</td><td>23</td></tr>\n",
       "\t<tr><td>25</td><td>2011-01-02</td><td>0</td><td>1</td><td>0</td><td>0</td><td>0</td><td>2</td><td>0.46</td><td>0.4545</td><td>0.88</td><td>0.2985</td><td> 4</td><td>13</td><td> 17</td><td>1</td><td> 0</td></tr>\n",
       "\t<tr><td>26</td><td>2011-01-02</td><td>0</td><td>1</td><td>0</td><td>0</td><td>0</td><td>2</td><td>0.44</td><td>0.4394</td><td>0.94</td><td>0.2537</td><td> 1</td><td>16</td><td> 17</td><td>1</td><td> 1</td></tr>\n",
       "\t<tr><td>27</td><td>2011-01-02</td><td>0</td><td>1</td><td>0</td><td>0</td><td>0</td><td>2</td><td>0.42</td><td>0.4242</td><td>1.00</td><td>0.2836</td><td> 1</td><td> 8</td><td>  9</td><td>1</td><td> 2</td></tr>\n",
       "\t<tr><td>28</td><td>2011-01-02</td><td>0</td><td>1</td><td>0</td><td>0</td><td>0</td><td>2</td><td>0.46</td><td>0.4545</td><td>0.94</td><td>0.1940</td><td> 2</td><td> 4</td><td>  6</td><td>1</td><td> 3</td></tr>\n",
       "\t<tr><td>29</td><td>2011-01-02</td><td>0</td><td>1</td><td>0</td><td>0</td><td>0</td><td>2</td><td>0.46</td><td>0.4545</td><td>0.94</td><td>0.1940</td><td> 2</td><td> 1</td><td>  3</td><td>1</td><td> 4</td></tr>\n",
       "\t<tr><td>30</td><td>2011-01-02</td><td>0</td><td>1</td><td>0</td><td>0</td><td>0</td><td>3</td><td>0.42</td><td>0.4242</td><td>0.77</td><td>0.2985</td><td> 0</td><td> 2</td><td>  2</td><td>1</td><td> 6</td></tr>\n",
       "\t<tr><td>⋮</td><td>⋮</td><td>⋮</td><td>⋮</td><td>⋮</td><td>⋮</td><td>⋮</td><td>⋮</td><td>⋮</td><td>⋮</td><td>⋮</td><td>⋮</td><td>⋮</td><td>⋮</td><td>⋮</td><td>⋮</td><td>⋮</td></tr>\n",
       "\t<tr><td>17088</td><td>2012-12-19</td><td>1</td><td>12</td><td>0</td><td>3</td><td>1</td><td>1</td><td>0.38</td><td>0.3939</td><td>0.50</td><td>0.3582</td><td>23</td><td>546</td><td>569</td><td>4</td><td>18</td></tr>\n",
       "\t<tr><td>17089</td><td>2012-12-19</td><td>1</td><td>12</td><td>0</td><td>3</td><td>1</td><td>1</td><td>0.38</td><td>0.3939</td><td>0.50</td><td>0.3881</td><td> 7</td><td>329</td><td>336</td><td>4</td><td>19</td></tr>\n",
       "\t<tr><td>17090</td><td>2012-12-19</td><td>1</td><td>12</td><td>0</td><td>3</td><td>1</td><td>1</td><td>0.36</td><td>0.3485</td><td>0.57</td><td>0.2239</td><td>10</td><td>231</td><td>241</td><td>4</td><td>20</td></tr>\n",
       "\t<tr><td>17091</td><td>2012-12-19</td><td>1</td><td>12</td><td>0</td><td>3</td><td>1</td><td>1</td><td>0.34</td><td>0.3182</td><td>0.61</td><td>0.2239</td><td> 4</td><td>164</td><td>168</td><td>4</td><td>21</td></tr>\n",
       "\t<tr><td>17092</td><td>2012-12-19</td><td>1</td><td>12</td><td>0</td><td>3</td><td>1</td><td>1</td><td>0.34</td><td>0.3485</td><td>0.61</td><td>0.0896</td><td>12</td><td>117</td><td>129</td><td>4</td><td>22</td></tr>\n",
       "\t<tr><td>17093</td><td>2012-12-19</td><td>1</td><td>12</td><td>0</td><td>3</td><td>1</td><td>1</td><td>0.32</td><td>0.3333</td><td>0.66</td><td>0.1343</td><td> 4</td><td> 84</td><td> 88</td><td>4</td><td>23</td></tr>\n",
       "\t<tr><td>17094</td><td>2012-12-20</td><td>1</td><td>12</td><td>0</td><td>4</td><td>1</td><td>1</td><td>0.32</td><td>0.3333</td><td>0.61</td><td>0.1343</td><td> 2</td><td> 40</td><td> 42</td><td>4</td><td> 0</td></tr>\n",
       "\t<tr><td>17095</td><td>2012-12-20</td><td>1</td><td>12</td><td>0</td><td>4</td><td>1</td><td>1</td><td>0.32</td><td>0.3485</td><td>0.66</td><td>0.0000</td><td> 1</td><td> 19</td><td> 20</td><td>4</td><td> 1</td></tr>\n",
       "\t<tr><td>17096</td><td>2012-12-20</td><td>1</td><td>12</td><td>0</td><td>4</td><td>1</td><td>1</td><td>0.32</td><td>0.3485</td><td>0.66</td><td>0.0000</td><td> 2</td><td>  6</td><td>  8</td><td>4</td><td> 2</td></tr>\n",
       "\t<tr><td>17097</td><td>2012-12-20</td><td>1</td><td>12</td><td>0</td><td>4</td><td>1</td><td>2</td><td>0.30</td><td>0.3182</td><td>0.70</td><td>0.0896</td><td> 1</td><td>  3</td><td>  4</td><td>4</td><td> 3</td></tr>\n",
       "\t<tr><td>17098</td><td>2012-12-20</td><td>1</td><td>12</td><td>0</td><td>4</td><td>1</td><td>2</td><td>0.30</td><td>0.3182</td><td>0.70</td><td>0.0896</td><td> 0</td><td>  6</td><td>  6</td><td>4</td><td> 4</td></tr>\n",
       "\t<tr><td>17099</td><td>2012-12-20</td><td>1</td><td>12</td><td>0</td><td>4</td><td>1</td><td>2</td><td>0.30</td><td>0.3182</td><td>0.70</td><td>0.1045</td><td> 0</td><td> 35</td><td> 35</td><td>4</td><td> 5</td></tr>\n",
       "\t<tr><td>17100</td><td>2012-12-20</td><td>1</td><td>12</td><td>0</td><td>4</td><td>1</td><td>2</td><td>0.30</td><td>0.3333</td><td>0.65</td><td>0.0000</td><td> 4</td><td>114</td><td>118</td><td>4</td><td> 6</td></tr>\n",
       "\t<tr><td>17101</td><td>2012-12-20</td><td>1</td><td>12</td><td>0</td><td>4</td><td>1</td><td>2</td><td>0.30</td><td>0.3333</td><td>0.70</td><td>0.0000</td><td> 4</td><td>346</td><td>350</td><td>4</td><td> 7</td></tr>\n",
       "\t<tr><td>17102</td><td>2012-12-20</td><td>1</td><td>12</td><td>0</td><td>4</td><td>1</td><td>2</td><td>0.30</td><td>0.3333</td><td>0.70</td><td>0.0000</td><td>14</td><td>585</td><td>599</td><td>4</td><td> 8</td></tr>\n",
       "\t<tr><td>17103</td><td>2012-12-20</td><td>1</td><td>12</td><td>0</td><td>4</td><td>1</td><td>2</td><td>0.30</td><td>0.3333</td><td>0.70</td><td>0.0000</td><td>14</td><td>303</td><td>317</td><td>4</td><td> 9</td></tr>\n",
       "\t<tr><td>17104</td><td>2012-12-20</td><td>1</td><td>12</td><td>0</td><td>4</td><td>1</td><td>2</td><td>0.32</td><td>0.3333</td><td>0.66</td><td>0.0000</td><td>23</td><td>138</td><td>161</td><td>4</td><td>10</td></tr>\n",
       "\t<tr><td>17105</td><td>2012-12-20</td><td>1</td><td>12</td><td>0</td><td>4</td><td>1</td><td>2</td><td>0.34</td><td>0.3182</td><td>0.57</td><td>0.2239</td><td>22</td><td>168</td><td>190</td><td>4</td><td>11</td></tr>\n",
       "\t<tr><td>17106</td><td>2012-12-20</td><td>1</td><td>12</td><td>0</td><td>4</td><td>1</td><td>2</td><td>0.36</td><td>0.3485</td><td>0.53</td><td>0.1642</td><td>31</td><td>181</td><td>212</td><td>4</td><td>12</td></tr>\n",
       "\t<tr><td>17107</td><td>2012-12-20</td><td>1</td><td>12</td><td>0</td><td>4</td><td>1</td><td>2</td><td>0.36</td><td>0.3485</td><td>0.57</td><td>0.1940</td><td>46</td><td>171</td><td>217</td><td>4</td><td>13</td></tr>\n",
       "\t<tr><td>17108</td><td>2012-12-20</td><td>1</td><td>12</td><td>0</td><td>4</td><td>1</td><td>2</td><td>0.36</td><td>0.3485</td><td>0.53</td><td>0.1940</td><td>43</td><td>171</td><td>214</td><td>4</td><td>14</td></tr>\n",
       "\t<tr><td>17109</td><td>2012-12-20</td><td>1</td><td>12</td><td>0</td><td>4</td><td>1</td><td>2</td><td>0.34</td><td>0.3333</td><td>0.57</td><td>0.1940</td><td>33</td><td>216</td><td>249</td><td>4</td><td>15</td></tr>\n",
       "\t<tr><td>17110</td><td>2012-12-20</td><td>1</td><td>12</td><td>0</td><td>4</td><td>1</td><td>2</td><td>0.34</td><td>0.3030</td><td>0.53</td><td>0.3284</td><td>21</td><td>281</td><td>302</td><td>4</td><td>16</td></tr>\n",
       "\t<tr><td>17111</td><td>2012-12-20</td><td>1</td><td>12</td><td>0</td><td>4</td><td>1</td><td>2</td><td>0.34</td><td>0.3333</td><td>0.66</td><td>0.1940</td><td>25</td><td>450</td><td>475</td><td>4</td><td>17</td></tr>\n",
       "\t<tr><td>17112</td><td>2012-12-20</td><td>1</td><td>12</td><td>0</td><td>4</td><td>1</td><td>2</td><td>0.34</td><td>0.3333</td><td>0.71</td><td>0.1940</td><td>22</td><td>359</td><td>381</td><td>4</td><td>18</td></tr>\n",
       "\t<tr><td>17113</td><td>2012-12-20</td><td>1</td><td>12</td><td>0</td><td>4</td><td>1</td><td>3</td><td>0.34</td><td>0.3182</td><td>0.71</td><td>0.2537</td><td> 3</td><td>115</td><td>118</td><td>4</td><td>19</td></tr>\n",
       "\t<tr><td>17114</td><td>2012-12-20</td><td>1</td><td>12</td><td>0</td><td>4</td><td>1</td><td>3</td><td>0.34</td><td>0.3333</td><td>0.76</td><td>0.1642</td><td> 1</td><td> 49</td><td> 50</td><td>4</td><td>20</td></tr>\n",
       "\t<tr><td>17115</td><td>2012-12-20</td><td>1</td><td>12</td><td>0</td><td>4</td><td>1</td><td>3</td><td>0.34</td><td>0.3333</td><td>0.76</td><td>0.1642</td><td> 1</td><td> 25</td><td> 26</td><td>4</td><td>21</td></tr>\n",
       "\t<tr><td>17116</td><td>2012-12-20</td><td>1</td><td>12</td><td>0</td><td>4</td><td>1</td><td>3</td><td>0.34</td><td>0.3333</td><td>0.87</td><td>0.1940</td><td> 1</td><td> 20</td><td> 21</td><td>4</td><td>22</td></tr>\n",
       "\t<tr><td>17117</td><td>2012-12-20</td><td>1</td><td>12</td><td>0</td><td>4</td><td>1</td><td>3</td><td>0.40</td><td>0.4091</td><td>0.82</td><td>0.2985</td><td> 0</td><td> 13</td><td> 13</td><td>4</td><td>23</td></tr>\n",
       "</tbody>\n",
       "</table>\n"
      ],
      "text/latex": [
       "A tibble: 17379 × 17\n",
       "\\begin{tabular}{r|lllllllllllllllll}\n",
       " instant & dteday & yr & mnth & holiday & weekday & workingday & weathersit & temp & atemp & hum & windspeed & casual & registered & cnt & season & hr\\\\\n",
       " <dbl> & <date> & <dbl> & <dbl> & <dbl> & <dbl> & <dbl> & <dbl> & <dbl> & <dbl> & <dbl> & <dbl> & <dbl> & <dbl> & <dbl> & <chr> & <dbl>\\\\\n",
       "\\hline\n",
       "\t  1 & 2011-01-01 & 0 & 1 & 0 & 6 & 0 & 1 & 0.24 & 0.2879 & 0.81 & 0.0000 &  3 & 13 &  16 & 1 &  0\\\\\n",
       "\t  2 & 2011-01-01 & 0 & 1 & 0 & 6 & 0 & 1 & 0.22 & 0.2727 & 0.80 & 0.0000 &  8 & 32 &  40 & 1 &  1\\\\\n",
       "\t  3 & 2011-01-01 & 0 & 1 & 0 & 6 & 0 & 1 & 0.22 & 0.2727 & 0.80 & 0.0000 &  5 & 27 &  32 & 1 &  2\\\\\n",
       "\t  4 & 2011-01-01 & 0 & 1 & 0 & 6 & 0 & 1 & 0.24 & 0.2879 & 0.75 & 0.0000 &  3 & 10 &  13 & 1 &  3\\\\\n",
       "\t  5 & 2011-01-01 & 0 & 1 & 0 & 6 & 0 & 1 & 0.24 & 0.2879 & 0.75 & 0.0000 &  0 &  1 &   1 & 1 &  4\\\\\n",
       "\t  6 & 2011-01-01 & 0 & 1 & 0 & 6 & 0 & 2 & 0.24 & 0.2576 & 0.75 & 0.0896 &  0 &  1 &   1 & 1 &  5\\\\\n",
       "\t  7 & 2011-01-01 & 0 & 1 & 0 & 6 & 0 & 1 & 0.22 & 0.2727 & 0.80 & 0.0000 &  2 &  0 &   2 & 1 &  6\\\\\n",
       "\t  8 & 2011-01-01 & 0 & 1 & 0 & 6 & 0 & 1 & 0.20 & 0.2576 & 0.86 & 0.0000 &  1 &  2 &   3 & 1 &  7\\\\\n",
       "\t  9 & 2011-01-01 & 0 & 1 & 0 & 6 & 0 & 1 & 0.24 & 0.2879 & 0.75 & 0.0000 &  1 &  7 &   8 & 1 &  8\\\\\n",
       "\t 10 & 2011-01-01 & 0 & 1 & 0 & 6 & 0 & 1 & 0.32 & 0.3485 & 0.76 & 0.0000 &  8 &  6 &  14 & 1 &  9\\\\\n",
       "\t 11 & 2011-01-01 & 0 & 1 & 0 & 6 & 0 & 1 & 0.38 & 0.3939 & 0.76 & 0.2537 & 12 & 24 &  36 & 1 & 10\\\\\n",
       "\t 12 & 2011-01-01 & 0 & 1 & 0 & 6 & 0 & 1 & 0.36 & 0.3333 & 0.81 & 0.2836 & 26 & 30 &  56 & 1 & 11\\\\\n",
       "\t 13 & 2011-01-01 & 0 & 1 & 0 & 6 & 0 & 1 & 0.42 & 0.4242 & 0.77 & 0.2836 & 29 & 55 &  84 & 1 & 12\\\\\n",
       "\t 14 & 2011-01-01 & 0 & 1 & 0 & 6 & 0 & 2 & 0.46 & 0.4545 & 0.72 & 0.2985 & 47 & 47 &  94 & 1 & 13\\\\\n",
       "\t 15 & 2011-01-01 & 0 & 1 & 0 & 6 & 0 & 2 & 0.46 & 0.4545 & 0.72 & 0.2836 & 35 & 71 & 106 & 1 & 14\\\\\n",
       "\t 16 & 2011-01-01 & 0 & 1 & 0 & 6 & 0 & 2 & 0.44 & 0.4394 & 0.77 & 0.2985 & 40 & 70 & 110 & 1 & 15\\\\\n",
       "\t 17 & 2011-01-01 & 0 & 1 & 0 & 6 & 0 & 2 & 0.42 & 0.4242 & 0.82 & 0.2985 & 41 & 52 &  93 & 1 & 16\\\\\n",
       "\t 18 & 2011-01-01 & 0 & 1 & 0 & 6 & 0 & 2 & 0.44 & 0.4394 & 0.82 & 0.2836 & 15 & 52 &  67 & 1 & 17\\\\\n",
       "\t 19 & 2011-01-01 & 0 & 1 & 0 & 6 & 0 & 3 & 0.42 & 0.4242 & 0.88 & 0.2537 &  9 & 26 &  35 & 1 & 18\\\\\n",
       "\t 20 & 2011-01-01 & 0 & 1 & 0 & 6 & 0 & 3 & 0.42 & 0.4242 & 0.88 & 0.2537 &  6 & 31 &  37 & 1 & 19\\\\\n",
       "\t 21 & 2011-01-01 & 0 & 1 & 0 & 6 & 0 & 2 & 0.40 & 0.4091 & 0.87 & 0.2537 & 11 & 25 &  36 & 1 & 20\\\\\n",
       "\t 22 & 2011-01-01 & 0 & 1 & 0 & 6 & 0 & 2 & 0.40 & 0.4091 & 0.87 & 0.1940 &  3 & 31 &  34 & 1 & 21\\\\\n",
       "\t 23 & 2011-01-01 & 0 & 1 & 0 & 6 & 0 & 2 & 0.40 & 0.4091 & 0.94 & 0.2239 & 11 & 17 &  28 & 1 & 22\\\\\n",
       "\t 24 & 2011-01-01 & 0 & 1 & 0 & 6 & 0 & 2 & 0.46 & 0.4545 & 0.88 & 0.2985 & 15 & 24 &  39 & 1 & 23\\\\\n",
       "\t 25 & 2011-01-02 & 0 & 1 & 0 & 0 & 0 & 2 & 0.46 & 0.4545 & 0.88 & 0.2985 &  4 & 13 &  17 & 1 &  0\\\\\n",
       "\t 26 & 2011-01-02 & 0 & 1 & 0 & 0 & 0 & 2 & 0.44 & 0.4394 & 0.94 & 0.2537 &  1 & 16 &  17 & 1 &  1\\\\\n",
       "\t 27 & 2011-01-02 & 0 & 1 & 0 & 0 & 0 & 2 & 0.42 & 0.4242 & 1.00 & 0.2836 &  1 &  8 &   9 & 1 &  2\\\\\n",
       "\t 28 & 2011-01-02 & 0 & 1 & 0 & 0 & 0 & 2 & 0.46 & 0.4545 & 0.94 & 0.1940 &  2 &  4 &   6 & 1 &  3\\\\\n",
       "\t 29 & 2011-01-02 & 0 & 1 & 0 & 0 & 0 & 2 & 0.46 & 0.4545 & 0.94 & 0.1940 &  2 &  1 &   3 & 1 &  4\\\\\n",
       "\t 30 & 2011-01-02 & 0 & 1 & 0 & 0 & 0 & 3 & 0.42 & 0.4242 & 0.77 & 0.2985 &  0 &  2 &   2 & 1 &  6\\\\\n",
       "\t ⋮ & ⋮ & ⋮ & ⋮ & ⋮ & ⋮ & ⋮ & ⋮ & ⋮ & ⋮ & ⋮ & ⋮ & ⋮ & ⋮ & ⋮ & ⋮ & ⋮\\\\\n",
       "\t 17088 & 2012-12-19 & 1 & 12 & 0 & 3 & 1 & 1 & 0.38 & 0.3939 & 0.50 & 0.3582 & 23 & 546 & 569 & 4 & 18\\\\\n",
       "\t 17089 & 2012-12-19 & 1 & 12 & 0 & 3 & 1 & 1 & 0.38 & 0.3939 & 0.50 & 0.3881 &  7 & 329 & 336 & 4 & 19\\\\\n",
       "\t 17090 & 2012-12-19 & 1 & 12 & 0 & 3 & 1 & 1 & 0.36 & 0.3485 & 0.57 & 0.2239 & 10 & 231 & 241 & 4 & 20\\\\\n",
       "\t 17091 & 2012-12-19 & 1 & 12 & 0 & 3 & 1 & 1 & 0.34 & 0.3182 & 0.61 & 0.2239 &  4 & 164 & 168 & 4 & 21\\\\\n",
       "\t 17092 & 2012-12-19 & 1 & 12 & 0 & 3 & 1 & 1 & 0.34 & 0.3485 & 0.61 & 0.0896 & 12 & 117 & 129 & 4 & 22\\\\\n",
       "\t 17093 & 2012-12-19 & 1 & 12 & 0 & 3 & 1 & 1 & 0.32 & 0.3333 & 0.66 & 0.1343 &  4 &  84 &  88 & 4 & 23\\\\\n",
       "\t 17094 & 2012-12-20 & 1 & 12 & 0 & 4 & 1 & 1 & 0.32 & 0.3333 & 0.61 & 0.1343 &  2 &  40 &  42 & 4 &  0\\\\\n",
       "\t 17095 & 2012-12-20 & 1 & 12 & 0 & 4 & 1 & 1 & 0.32 & 0.3485 & 0.66 & 0.0000 &  1 &  19 &  20 & 4 &  1\\\\\n",
       "\t 17096 & 2012-12-20 & 1 & 12 & 0 & 4 & 1 & 1 & 0.32 & 0.3485 & 0.66 & 0.0000 &  2 &   6 &   8 & 4 &  2\\\\\n",
       "\t 17097 & 2012-12-20 & 1 & 12 & 0 & 4 & 1 & 2 & 0.30 & 0.3182 & 0.70 & 0.0896 &  1 &   3 &   4 & 4 &  3\\\\\n",
       "\t 17098 & 2012-12-20 & 1 & 12 & 0 & 4 & 1 & 2 & 0.30 & 0.3182 & 0.70 & 0.0896 &  0 &   6 &   6 & 4 &  4\\\\\n",
       "\t 17099 & 2012-12-20 & 1 & 12 & 0 & 4 & 1 & 2 & 0.30 & 0.3182 & 0.70 & 0.1045 &  0 &  35 &  35 & 4 &  5\\\\\n",
       "\t 17100 & 2012-12-20 & 1 & 12 & 0 & 4 & 1 & 2 & 0.30 & 0.3333 & 0.65 & 0.0000 &  4 & 114 & 118 & 4 &  6\\\\\n",
       "\t 17101 & 2012-12-20 & 1 & 12 & 0 & 4 & 1 & 2 & 0.30 & 0.3333 & 0.70 & 0.0000 &  4 & 346 & 350 & 4 &  7\\\\\n",
       "\t 17102 & 2012-12-20 & 1 & 12 & 0 & 4 & 1 & 2 & 0.30 & 0.3333 & 0.70 & 0.0000 & 14 & 585 & 599 & 4 &  8\\\\\n",
       "\t 17103 & 2012-12-20 & 1 & 12 & 0 & 4 & 1 & 2 & 0.30 & 0.3333 & 0.70 & 0.0000 & 14 & 303 & 317 & 4 &  9\\\\\n",
       "\t 17104 & 2012-12-20 & 1 & 12 & 0 & 4 & 1 & 2 & 0.32 & 0.3333 & 0.66 & 0.0000 & 23 & 138 & 161 & 4 & 10\\\\\n",
       "\t 17105 & 2012-12-20 & 1 & 12 & 0 & 4 & 1 & 2 & 0.34 & 0.3182 & 0.57 & 0.2239 & 22 & 168 & 190 & 4 & 11\\\\\n",
       "\t 17106 & 2012-12-20 & 1 & 12 & 0 & 4 & 1 & 2 & 0.36 & 0.3485 & 0.53 & 0.1642 & 31 & 181 & 212 & 4 & 12\\\\\n",
       "\t 17107 & 2012-12-20 & 1 & 12 & 0 & 4 & 1 & 2 & 0.36 & 0.3485 & 0.57 & 0.1940 & 46 & 171 & 217 & 4 & 13\\\\\n",
       "\t 17108 & 2012-12-20 & 1 & 12 & 0 & 4 & 1 & 2 & 0.36 & 0.3485 & 0.53 & 0.1940 & 43 & 171 & 214 & 4 & 14\\\\\n",
       "\t 17109 & 2012-12-20 & 1 & 12 & 0 & 4 & 1 & 2 & 0.34 & 0.3333 & 0.57 & 0.1940 & 33 & 216 & 249 & 4 & 15\\\\\n",
       "\t 17110 & 2012-12-20 & 1 & 12 & 0 & 4 & 1 & 2 & 0.34 & 0.3030 & 0.53 & 0.3284 & 21 & 281 & 302 & 4 & 16\\\\\n",
       "\t 17111 & 2012-12-20 & 1 & 12 & 0 & 4 & 1 & 2 & 0.34 & 0.3333 & 0.66 & 0.1940 & 25 & 450 & 475 & 4 & 17\\\\\n",
       "\t 17112 & 2012-12-20 & 1 & 12 & 0 & 4 & 1 & 2 & 0.34 & 0.3333 & 0.71 & 0.1940 & 22 & 359 & 381 & 4 & 18\\\\\n",
       "\t 17113 & 2012-12-20 & 1 & 12 & 0 & 4 & 1 & 3 & 0.34 & 0.3182 & 0.71 & 0.2537 &  3 & 115 & 118 & 4 & 19\\\\\n",
       "\t 17114 & 2012-12-20 & 1 & 12 & 0 & 4 & 1 & 3 & 0.34 & 0.3333 & 0.76 & 0.1642 &  1 &  49 &  50 & 4 & 20\\\\\n",
       "\t 17115 & 2012-12-20 & 1 & 12 & 0 & 4 & 1 & 3 & 0.34 & 0.3333 & 0.76 & 0.1642 &  1 &  25 &  26 & 4 & 21\\\\\n",
       "\t 17116 & 2012-12-20 & 1 & 12 & 0 & 4 & 1 & 3 & 0.34 & 0.3333 & 0.87 & 0.1940 &  1 &  20 &  21 & 4 & 22\\\\\n",
       "\t 17117 & 2012-12-20 & 1 & 12 & 0 & 4 & 1 & 3 & 0.40 & 0.4091 & 0.82 & 0.2985 &  0 &  13 &  13 & 4 & 23\\\\\n",
       "\\end{tabular}\n"
      ],
      "text/markdown": [
       "\n",
       "A tibble: 17379 × 17\n",
       "\n",
       "| instant &lt;dbl&gt; | dteday &lt;date&gt; | yr &lt;dbl&gt; | mnth &lt;dbl&gt; | holiday &lt;dbl&gt; | weekday &lt;dbl&gt; | workingday &lt;dbl&gt; | weathersit &lt;dbl&gt; | temp &lt;dbl&gt; | atemp &lt;dbl&gt; | hum &lt;dbl&gt; | windspeed &lt;dbl&gt; | casual &lt;dbl&gt; | registered &lt;dbl&gt; | cnt &lt;dbl&gt; | season &lt;chr&gt; | hr &lt;dbl&gt; |\n",
       "|---|---|---|---|---|---|---|---|---|---|---|---|---|---|---|---|---|\n",
       "|  1 | 2011-01-01 | 0 | 1 | 0 | 6 | 0 | 1 | 0.24 | 0.2879 | 0.81 | 0.0000 |  3 | 13 |  16 | 1 |  0 |\n",
       "|  2 | 2011-01-01 | 0 | 1 | 0 | 6 | 0 | 1 | 0.22 | 0.2727 | 0.80 | 0.0000 |  8 | 32 |  40 | 1 |  1 |\n",
       "|  3 | 2011-01-01 | 0 | 1 | 0 | 6 | 0 | 1 | 0.22 | 0.2727 | 0.80 | 0.0000 |  5 | 27 |  32 | 1 |  2 |\n",
       "|  4 | 2011-01-01 | 0 | 1 | 0 | 6 | 0 | 1 | 0.24 | 0.2879 | 0.75 | 0.0000 |  3 | 10 |  13 | 1 |  3 |\n",
       "|  5 | 2011-01-01 | 0 | 1 | 0 | 6 | 0 | 1 | 0.24 | 0.2879 | 0.75 | 0.0000 |  0 |  1 |   1 | 1 |  4 |\n",
       "|  6 | 2011-01-01 | 0 | 1 | 0 | 6 | 0 | 2 | 0.24 | 0.2576 | 0.75 | 0.0896 |  0 |  1 |   1 | 1 |  5 |\n",
       "|  7 | 2011-01-01 | 0 | 1 | 0 | 6 | 0 | 1 | 0.22 | 0.2727 | 0.80 | 0.0000 |  2 |  0 |   2 | 1 |  6 |\n",
       "|  8 | 2011-01-01 | 0 | 1 | 0 | 6 | 0 | 1 | 0.20 | 0.2576 | 0.86 | 0.0000 |  1 |  2 |   3 | 1 |  7 |\n",
       "|  9 | 2011-01-01 | 0 | 1 | 0 | 6 | 0 | 1 | 0.24 | 0.2879 | 0.75 | 0.0000 |  1 |  7 |   8 | 1 |  8 |\n",
       "| 10 | 2011-01-01 | 0 | 1 | 0 | 6 | 0 | 1 | 0.32 | 0.3485 | 0.76 | 0.0000 |  8 |  6 |  14 | 1 |  9 |\n",
       "| 11 | 2011-01-01 | 0 | 1 | 0 | 6 | 0 | 1 | 0.38 | 0.3939 | 0.76 | 0.2537 | 12 | 24 |  36 | 1 | 10 |\n",
       "| 12 | 2011-01-01 | 0 | 1 | 0 | 6 | 0 | 1 | 0.36 | 0.3333 | 0.81 | 0.2836 | 26 | 30 |  56 | 1 | 11 |\n",
       "| 13 | 2011-01-01 | 0 | 1 | 0 | 6 | 0 | 1 | 0.42 | 0.4242 | 0.77 | 0.2836 | 29 | 55 |  84 | 1 | 12 |\n",
       "| 14 | 2011-01-01 | 0 | 1 | 0 | 6 | 0 | 2 | 0.46 | 0.4545 | 0.72 | 0.2985 | 47 | 47 |  94 | 1 | 13 |\n",
       "| 15 | 2011-01-01 | 0 | 1 | 0 | 6 | 0 | 2 | 0.46 | 0.4545 | 0.72 | 0.2836 | 35 | 71 | 106 | 1 | 14 |\n",
       "| 16 | 2011-01-01 | 0 | 1 | 0 | 6 | 0 | 2 | 0.44 | 0.4394 | 0.77 | 0.2985 | 40 | 70 | 110 | 1 | 15 |\n",
       "| 17 | 2011-01-01 | 0 | 1 | 0 | 6 | 0 | 2 | 0.42 | 0.4242 | 0.82 | 0.2985 | 41 | 52 |  93 | 1 | 16 |\n",
       "| 18 | 2011-01-01 | 0 | 1 | 0 | 6 | 0 | 2 | 0.44 | 0.4394 | 0.82 | 0.2836 | 15 | 52 |  67 | 1 | 17 |\n",
       "| 19 | 2011-01-01 | 0 | 1 | 0 | 6 | 0 | 3 | 0.42 | 0.4242 | 0.88 | 0.2537 |  9 | 26 |  35 | 1 | 18 |\n",
       "| 20 | 2011-01-01 | 0 | 1 | 0 | 6 | 0 | 3 | 0.42 | 0.4242 | 0.88 | 0.2537 |  6 | 31 |  37 | 1 | 19 |\n",
       "| 21 | 2011-01-01 | 0 | 1 | 0 | 6 | 0 | 2 | 0.40 | 0.4091 | 0.87 | 0.2537 | 11 | 25 |  36 | 1 | 20 |\n",
       "| 22 | 2011-01-01 | 0 | 1 | 0 | 6 | 0 | 2 | 0.40 | 0.4091 | 0.87 | 0.1940 |  3 | 31 |  34 | 1 | 21 |\n",
       "| 23 | 2011-01-01 | 0 | 1 | 0 | 6 | 0 | 2 | 0.40 | 0.4091 | 0.94 | 0.2239 | 11 | 17 |  28 | 1 | 22 |\n",
       "| 24 | 2011-01-01 | 0 | 1 | 0 | 6 | 0 | 2 | 0.46 | 0.4545 | 0.88 | 0.2985 | 15 | 24 |  39 | 1 | 23 |\n",
       "| 25 | 2011-01-02 | 0 | 1 | 0 | 0 | 0 | 2 | 0.46 | 0.4545 | 0.88 | 0.2985 |  4 | 13 |  17 | 1 |  0 |\n",
       "| 26 | 2011-01-02 | 0 | 1 | 0 | 0 | 0 | 2 | 0.44 | 0.4394 | 0.94 | 0.2537 |  1 | 16 |  17 | 1 |  1 |\n",
       "| 27 | 2011-01-02 | 0 | 1 | 0 | 0 | 0 | 2 | 0.42 | 0.4242 | 1.00 | 0.2836 |  1 |  8 |   9 | 1 |  2 |\n",
       "| 28 | 2011-01-02 | 0 | 1 | 0 | 0 | 0 | 2 | 0.46 | 0.4545 | 0.94 | 0.1940 |  2 |  4 |   6 | 1 |  3 |\n",
       "| 29 | 2011-01-02 | 0 | 1 | 0 | 0 | 0 | 2 | 0.46 | 0.4545 | 0.94 | 0.1940 |  2 |  1 |   3 | 1 |  4 |\n",
       "| 30 | 2011-01-02 | 0 | 1 | 0 | 0 | 0 | 3 | 0.42 | 0.4242 | 0.77 | 0.2985 |  0 |  2 |   2 | 1 |  6 |\n",
       "| ⋮ | ⋮ | ⋮ | ⋮ | ⋮ | ⋮ | ⋮ | ⋮ | ⋮ | ⋮ | ⋮ | ⋮ | ⋮ | ⋮ | ⋮ | ⋮ | ⋮ |\n",
       "| 17088 | 2012-12-19 | 1 | 12 | 0 | 3 | 1 | 1 | 0.38 | 0.3939 | 0.50 | 0.3582 | 23 | 546 | 569 | 4 | 18 |\n",
       "| 17089 | 2012-12-19 | 1 | 12 | 0 | 3 | 1 | 1 | 0.38 | 0.3939 | 0.50 | 0.3881 |  7 | 329 | 336 | 4 | 19 |\n",
       "| 17090 | 2012-12-19 | 1 | 12 | 0 | 3 | 1 | 1 | 0.36 | 0.3485 | 0.57 | 0.2239 | 10 | 231 | 241 | 4 | 20 |\n",
       "| 17091 | 2012-12-19 | 1 | 12 | 0 | 3 | 1 | 1 | 0.34 | 0.3182 | 0.61 | 0.2239 |  4 | 164 | 168 | 4 | 21 |\n",
       "| 17092 | 2012-12-19 | 1 | 12 | 0 | 3 | 1 | 1 | 0.34 | 0.3485 | 0.61 | 0.0896 | 12 | 117 | 129 | 4 | 22 |\n",
       "| 17093 | 2012-12-19 | 1 | 12 | 0 | 3 | 1 | 1 | 0.32 | 0.3333 | 0.66 | 0.1343 |  4 |  84 |  88 | 4 | 23 |\n",
       "| 17094 | 2012-12-20 | 1 | 12 | 0 | 4 | 1 | 1 | 0.32 | 0.3333 | 0.61 | 0.1343 |  2 |  40 |  42 | 4 |  0 |\n",
       "| 17095 | 2012-12-20 | 1 | 12 | 0 | 4 | 1 | 1 | 0.32 | 0.3485 | 0.66 | 0.0000 |  1 |  19 |  20 | 4 |  1 |\n",
       "| 17096 | 2012-12-20 | 1 | 12 | 0 | 4 | 1 | 1 | 0.32 | 0.3485 | 0.66 | 0.0000 |  2 |   6 |   8 | 4 |  2 |\n",
       "| 17097 | 2012-12-20 | 1 | 12 | 0 | 4 | 1 | 2 | 0.30 | 0.3182 | 0.70 | 0.0896 |  1 |   3 |   4 | 4 |  3 |\n",
       "| 17098 | 2012-12-20 | 1 | 12 | 0 | 4 | 1 | 2 | 0.30 | 0.3182 | 0.70 | 0.0896 |  0 |   6 |   6 | 4 |  4 |\n",
       "| 17099 | 2012-12-20 | 1 | 12 | 0 | 4 | 1 | 2 | 0.30 | 0.3182 | 0.70 | 0.1045 |  0 |  35 |  35 | 4 |  5 |\n",
       "| 17100 | 2012-12-20 | 1 | 12 | 0 | 4 | 1 | 2 | 0.30 | 0.3333 | 0.65 | 0.0000 |  4 | 114 | 118 | 4 |  6 |\n",
       "| 17101 | 2012-12-20 | 1 | 12 | 0 | 4 | 1 | 2 | 0.30 | 0.3333 | 0.70 | 0.0000 |  4 | 346 | 350 | 4 |  7 |\n",
       "| 17102 | 2012-12-20 | 1 | 12 | 0 | 4 | 1 | 2 | 0.30 | 0.3333 | 0.70 | 0.0000 | 14 | 585 | 599 | 4 |  8 |\n",
       "| 17103 | 2012-12-20 | 1 | 12 | 0 | 4 | 1 | 2 | 0.30 | 0.3333 | 0.70 | 0.0000 | 14 | 303 | 317 | 4 |  9 |\n",
       "| 17104 | 2012-12-20 | 1 | 12 | 0 | 4 | 1 | 2 | 0.32 | 0.3333 | 0.66 | 0.0000 | 23 | 138 | 161 | 4 | 10 |\n",
       "| 17105 | 2012-12-20 | 1 | 12 | 0 | 4 | 1 | 2 | 0.34 | 0.3182 | 0.57 | 0.2239 | 22 | 168 | 190 | 4 | 11 |\n",
       "| 17106 | 2012-12-20 | 1 | 12 | 0 | 4 | 1 | 2 | 0.36 | 0.3485 | 0.53 | 0.1642 | 31 | 181 | 212 | 4 | 12 |\n",
       "| 17107 | 2012-12-20 | 1 | 12 | 0 | 4 | 1 | 2 | 0.36 | 0.3485 | 0.57 | 0.1940 | 46 | 171 | 217 | 4 | 13 |\n",
       "| 17108 | 2012-12-20 | 1 | 12 | 0 | 4 | 1 | 2 | 0.36 | 0.3485 | 0.53 | 0.1940 | 43 | 171 | 214 | 4 | 14 |\n",
       "| 17109 | 2012-12-20 | 1 | 12 | 0 | 4 | 1 | 2 | 0.34 | 0.3333 | 0.57 | 0.1940 | 33 | 216 | 249 | 4 | 15 |\n",
       "| 17110 | 2012-12-20 | 1 | 12 | 0 | 4 | 1 | 2 | 0.34 | 0.3030 | 0.53 | 0.3284 | 21 | 281 | 302 | 4 | 16 |\n",
       "| 17111 | 2012-12-20 | 1 | 12 | 0 | 4 | 1 | 2 | 0.34 | 0.3333 | 0.66 | 0.1940 | 25 | 450 | 475 | 4 | 17 |\n",
       "| 17112 | 2012-12-20 | 1 | 12 | 0 | 4 | 1 | 2 | 0.34 | 0.3333 | 0.71 | 0.1940 | 22 | 359 | 381 | 4 | 18 |\n",
       "| 17113 | 2012-12-20 | 1 | 12 | 0 | 4 | 1 | 3 | 0.34 | 0.3182 | 0.71 | 0.2537 |  3 | 115 | 118 | 4 | 19 |\n",
       "| 17114 | 2012-12-20 | 1 | 12 | 0 | 4 | 1 | 3 | 0.34 | 0.3333 | 0.76 | 0.1642 |  1 |  49 |  50 | 4 | 20 |\n",
       "| 17115 | 2012-12-20 | 1 | 12 | 0 | 4 | 1 | 3 | 0.34 | 0.3333 | 0.76 | 0.1642 |  1 |  25 |  26 | 4 | 21 |\n",
       "| 17116 | 2012-12-20 | 1 | 12 | 0 | 4 | 1 | 3 | 0.34 | 0.3333 | 0.87 | 0.1940 |  1 |  20 |  21 | 4 | 22 |\n",
       "| 17117 | 2012-12-20 | 1 | 12 | 0 | 4 | 1 | 3 | 0.40 | 0.4091 | 0.82 | 0.2985 |  0 |  13 |  13 | 4 | 23 |\n",
       "\n"
      ],
      "text/plain": [
       "      instant dteday     yr mnth holiday weekday workingday weathersit temp\n",
       "1      1      2011-01-01 0  1    0       6       0          1          0.24\n",
       "2      2      2011-01-01 0  1    0       6       0          1          0.22\n",
       "3      3      2011-01-01 0  1    0       6       0          1          0.22\n",
       "4      4      2011-01-01 0  1    0       6       0          1          0.24\n",
       "5      5      2011-01-01 0  1    0       6       0          1          0.24\n",
       "6      6      2011-01-01 0  1    0       6       0          2          0.24\n",
       "7      7      2011-01-01 0  1    0       6       0          1          0.22\n",
       "8      8      2011-01-01 0  1    0       6       0          1          0.20\n",
       "9      9      2011-01-01 0  1    0       6       0          1          0.24\n",
       "10    10      2011-01-01 0  1    0       6       0          1          0.32\n",
       "11    11      2011-01-01 0  1    0       6       0          1          0.38\n",
       "12    12      2011-01-01 0  1    0       6       0          1          0.36\n",
       "13    13      2011-01-01 0  1    0       6       0          1          0.42\n",
       "14    14      2011-01-01 0  1    0       6       0          2          0.46\n",
       "15    15      2011-01-01 0  1    0       6       0          2          0.46\n",
       "16    16      2011-01-01 0  1    0       6       0          2          0.44\n",
       "17    17      2011-01-01 0  1    0       6       0          2          0.42\n",
       "18    18      2011-01-01 0  1    0       6       0          2          0.44\n",
       "19    19      2011-01-01 0  1    0       6       0          3          0.42\n",
       "20    20      2011-01-01 0  1    0       6       0          3          0.42\n",
       "21    21      2011-01-01 0  1    0       6       0          2          0.40\n",
       "22    22      2011-01-01 0  1    0       6       0          2          0.40\n",
       "23    23      2011-01-01 0  1    0       6       0          2          0.40\n",
       "24    24      2011-01-01 0  1    0       6       0          2          0.46\n",
       "25    25      2011-01-02 0  1    0       0       0          2          0.46\n",
       "26    26      2011-01-02 0  1    0       0       0          2          0.44\n",
       "27    27      2011-01-02 0  1    0       0       0          2          0.42\n",
       "28    28      2011-01-02 0  1    0       0       0          2          0.46\n",
       "29    29      2011-01-02 0  1    0       0       0          2          0.46\n",
       "30    30      2011-01-02 0  1    0       0       0          3          0.42\n",
       "⋮     ⋮       ⋮          ⋮  ⋮    ⋮       ⋮       ⋮          ⋮          ⋮   \n",
       "17350 17088   2012-12-19 1  12   0       3       1          1          0.38\n",
       "17351 17089   2012-12-19 1  12   0       3       1          1          0.38\n",
       "17352 17090   2012-12-19 1  12   0       3       1          1          0.36\n",
       "17353 17091   2012-12-19 1  12   0       3       1          1          0.34\n",
       "17354 17092   2012-12-19 1  12   0       3       1          1          0.34\n",
       "17355 17093   2012-12-19 1  12   0       3       1          1          0.32\n",
       "17356 17094   2012-12-20 1  12   0       4       1          1          0.32\n",
       "17357 17095   2012-12-20 1  12   0       4       1          1          0.32\n",
       "17358 17096   2012-12-20 1  12   0       4       1          1          0.32\n",
       "17359 17097   2012-12-20 1  12   0       4       1          2          0.30\n",
       "17360 17098   2012-12-20 1  12   0       4       1          2          0.30\n",
       "17361 17099   2012-12-20 1  12   0       4       1          2          0.30\n",
       "17362 17100   2012-12-20 1  12   0       4       1          2          0.30\n",
       "17363 17101   2012-12-20 1  12   0       4       1          2          0.30\n",
       "17364 17102   2012-12-20 1  12   0       4       1          2          0.30\n",
       "17365 17103   2012-12-20 1  12   0       4       1          2          0.30\n",
       "17366 17104   2012-12-20 1  12   0       4       1          2          0.32\n",
       "17367 17105   2012-12-20 1  12   0       4       1          2          0.34\n",
       "17368 17106   2012-12-20 1  12   0       4       1          2          0.36\n",
       "17369 17107   2012-12-20 1  12   0       4       1          2          0.36\n",
       "17370 17108   2012-12-20 1  12   0       4       1          2          0.36\n",
       "17371 17109   2012-12-20 1  12   0       4       1          2          0.34\n",
       "17372 17110   2012-12-20 1  12   0       4       1          2          0.34\n",
       "17373 17111   2012-12-20 1  12   0       4       1          2          0.34\n",
       "17374 17112   2012-12-20 1  12   0       4       1          2          0.34\n",
       "17375 17113   2012-12-20 1  12   0       4       1          3          0.34\n",
       "17376 17114   2012-12-20 1  12   0       4       1          3          0.34\n",
       "17377 17115   2012-12-20 1  12   0       4       1          3          0.34\n",
       "17378 17116   2012-12-20 1  12   0       4       1          3          0.34\n",
       "17379 17117   2012-12-20 1  12   0       4       1          3          0.40\n",
       "      atemp  hum  windspeed casual registered cnt season hr\n",
       "1     0.2879 0.81 0.0000     3     13          16 1       0\n",
       "2     0.2727 0.80 0.0000     8     32          40 1       1\n",
       "3     0.2727 0.80 0.0000     5     27          32 1       2\n",
       "4     0.2879 0.75 0.0000     3     10          13 1       3\n",
       "5     0.2879 0.75 0.0000     0      1           1 1       4\n",
       "6     0.2576 0.75 0.0896     0      1           1 1       5\n",
       "7     0.2727 0.80 0.0000     2      0           2 1       6\n",
       "8     0.2576 0.86 0.0000     1      2           3 1       7\n",
       "9     0.2879 0.75 0.0000     1      7           8 1       8\n",
       "10    0.3485 0.76 0.0000     8      6          14 1       9\n",
       "11    0.3939 0.76 0.2537    12     24          36 1      10\n",
       "12    0.3333 0.81 0.2836    26     30          56 1      11\n",
       "13    0.4242 0.77 0.2836    29     55          84 1      12\n",
       "14    0.4545 0.72 0.2985    47     47          94 1      13\n",
       "15    0.4545 0.72 0.2836    35     71         106 1      14\n",
       "16    0.4394 0.77 0.2985    40     70         110 1      15\n",
       "17    0.4242 0.82 0.2985    41     52          93 1      16\n",
       "18    0.4394 0.82 0.2836    15     52          67 1      17\n",
       "19    0.4242 0.88 0.2537     9     26          35 1      18\n",
       "20    0.4242 0.88 0.2537     6     31          37 1      19\n",
       "21    0.4091 0.87 0.2537    11     25          36 1      20\n",
       "22    0.4091 0.87 0.1940     3     31          34 1      21\n",
       "23    0.4091 0.94 0.2239    11     17          28 1      22\n",
       "24    0.4545 0.88 0.2985    15     24          39 1      23\n",
       "25    0.4545 0.88 0.2985     4     13          17 1       0\n",
       "26    0.4394 0.94 0.2537     1     16          17 1       1\n",
       "27    0.4242 1.00 0.2836     1      8           9 1       2\n",
       "28    0.4545 0.94 0.1940     2      4           6 1       3\n",
       "29    0.4545 0.94 0.1940     2      1           3 1       4\n",
       "30    0.4242 0.77 0.2985     0      2           2 1       6\n",
       "⋮     ⋮      ⋮    ⋮         ⋮      ⋮          ⋮   ⋮      ⋮ \n",
       "17350 0.3939 0.50 0.3582    23     546        569 4      18\n",
       "17351 0.3939 0.50 0.3881     7     329        336 4      19\n",
       "17352 0.3485 0.57 0.2239    10     231        241 4      20\n",
       "17353 0.3182 0.61 0.2239     4     164        168 4      21\n",
       "17354 0.3485 0.61 0.0896    12     117        129 4      22\n",
       "17355 0.3333 0.66 0.1343     4      84         88 4      23\n",
       "17356 0.3333 0.61 0.1343     2      40         42 4       0\n",
       "17357 0.3485 0.66 0.0000     1      19         20 4       1\n",
       "17358 0.3485 0.66 0.0000     2       6          8 4       2\n",
       "17359 0.3182 0.70 0.0896     1       3          4 4       3\n",
       "17360 0.3182 0.70 0.0896     0       6          6 4       4\n",
       "17361 0.3182 0.70 0.1045     0      35         35 4       5\n",
       "17362 0.3333 0.65 0.0000     4     114        118 4       6\n",
       "17363 0.3333 0.70 0.0000     4     346        350 4       7\n",
       "17364 0.3333 0.70 0.0000    14     585        599 4       8\n",
       "17365 0.3333 0.70 0.0000    14     303        317 4       9\n",
       "17366 0.3333 0.66 0.0000    23     138        161 4      10\n",
       "17367 0.3182 0.57 0.2239    22     168        190 4      11\n",
       "17368 0.3485 0.53 0.1642    31     181        212 4      12\n",
       "17369 0.3485 0.57 0.1940    46     171        217 4      13\n",
       "17370 0.3485 0.53 0.1940    43     171        214 4      14\n",
       "17371 0.3333 0.57 0.1940    33     216        249 4      15\n",
       "17372 0.3030 0.53 0.3284    21     281        302 4      16\n",
       "17373 0.3333 0.66 0.1940    25     450        475 4      17\n",
       "17374 0.3333 0.71 0.1940    22     359        381 4      18\n",
       "17375 0.3182 0.71 0.2537     3     115        118 4      19\n",
       "17376 0.3333 0.76 0.1642     1      49         50 4      20\n",
       "17377 0.3333 0.76 0.1642     1      25         26 4      21\n",
       "17378 0.3333 0.87 0.1940     1      20         21 4      22\n",
       "17379 0.4091 0.82 0.2985     0      13         13 4      23"
      ]
     },
     "metadata": {},
     "output_type": "display_data"
    }
   ],
   "source": [
    "wide <- bike_df %>% spread(key = season, value = hr)\n",
    "\n",
    "wide %>%\n",
    "head(30)\n",
    "# spread season with value of hr in it.\n",
    "\n",
    "wide %>%\n",
    "gather(key = season, value = hr, 16:19)%>%\n",
    "na.omit()\n",
    "# gather the season 1 2 3 4 and make column called season.\n",
    "\n",
    "#skim()%>%\n",
    "#kable()\n",
    "#check if there is 4 seasons and 0 to 23 as hr."
   ]
  },
  {
   "cell_type": "markdown",
   "metadata": {},
   "source": [
    "### Task (f): plot (10 marks)\n",
    "\n",
    "Produce a beautiful graphical representation of the data in `bike_df` or of _some_ of the data in `bike_df`. You can try different geometries, themes, mappings, ... . Make sure you label the plots with titles, and axis labels. Notice that the focus is on the use of *plotting as a data model*, rather than on the *statistical modelling* of the data.\n",
    "\\[ Hint: if you can't find any plotting idea, try focusing on the count of total rental bikes, and how it varies through time, season, weather, temperature, humidty, wind-speed. \\]\n",
    "\n",
    "_hint_ useful functions: `ggplot()`, `ylab()`, `xlab()`, `geom_...()`, `aes()`, `facet_...()`, ..."
   ]
  },
  {
   "cell_type": "code",
   "execution_count": 6,
   "metadata": {},
   "outputs": [],
   "source": [
    "# your answer here"
   ]
  },
  {
   "cell_type": "markdown",
   "metadata": {},
   "source": [
    "### Task (g): save (10 marks)\n",
    "\n",
    "Save your plot from Task (f) and your tidy dataset from Task (g) to disk. \n",
    "\n",
    "_hint_ useful functions: `write_csv()`, `ggsave()`,..."
   ]
  },
  {
   "cell_type": "code",
   "execution_count": 6,
   "metadata": {},
   "outputs": [],
   "source": [
    "# your answer here"
   ]
  },
  {
   "cell_type": "markdown",
   "metadata": {},
   "source": [
    "### Challenge question (20 marks)\n",
    "\n",
    "You are the data scientist working for a bike rental company. The `hour.csv` is the data you have available. The bike rental CEO sometimes wakes up in the morning with these strange ideas, and you get to test them.\n",
    "\n",
    "One of the key element for the company is being sure that there are always enough bikes available for the users. So, we need to understand what makes a user rent a bike and what makes a user NOT rent a bike.\n",
    "Your CEO noticed thinks that one of the peak times for the registered users renting bikes is between 6am and 10am.\n",
    "\n",
    "Task (1): make a plot to check that (take seasonality into account in the plot).\n",
    "\n",
    "She also thought about an interesting hypothesis. A registered user usually finish working around 5pm. Between 5pm and 10pm, they notice the weather: in particular, the registered users are sensible to how good the weather is, and how stable it is. The morning after, between 6am and 10am, the amount of registered users renting a bike to go to work depends on the previous afternoon weather.\n",
    "\n",
    "Task (2): make one or more plot to test this hypothesis (again, consider seasonality in the plot)."
   ]
  },
  {
   "cell_type": "code",
   "execution_count": null,
   "metadata": {},
   "outputs": [],
   "source": [
    "# your code goes here"
   ]
  }
 ],
 "metadata": {
  "kernelspec": {
   "display_name": "R",
   "language": "R",
   "name": "ir"
  },
  "language_info": {
   "codemirror_mode": "r",
   "file_extension": ".r",
   "mimetype": "text/x-r-source",
   "name": "R",
   "pygments_lexer": "r",
   "version": "3.6.1"
  }
 },
 "nbformat": 4,
 "nbformat_minor": 4
}
